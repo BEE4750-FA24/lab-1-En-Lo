{
  "cells": [
    {
      "cell_type": "markdown",
      "id": "7b030395-ff9d-488b-893a-3f2925d07a29",
      "metadata": {},
      "source": [
        "# BEE 4750 Lab 1: Julia and GitHub Basics\n",
        "\n",
        "**Name**:\n",
        "\n",
        "**ID**:\n",
        "\n",
        "> **Due Date**\n",
        ">\n",
        "> Wednesday, 8/28/24, 9:00pm\n",
        "\n",
        "## Setup\n",
        "\n",
        "The following code should go at the top of most Julia scripts; it will\n",
        "load the local package environment and install any needed packages. You\n",
        "will see this often and shouldn’t need to touch it."
      ]
    },
    {
      "cell_type": "code",
      "execution_count": 84,
      "id": "2",
      "metadata": {},
      "outputs": [
        {
          "name": "stderr",
          "output_type": "stream",
          "text": [
            "\u001b[32m\u001b[1m  Activating\u001b[22m\u001b[39m project at `~/Desktop/FA24/BEE4750/Lab/lab-1-En-Lo`\n"
          ]
        }
      ],
      "source": [
        "import Pkg\n",
        "Pkg.activate(\".\")\n",
        "Pkg.instantiate()"
      ]
    },
    {
      "cell_type": "markdown",
      "id": "b0c0f53b-93bc-4baa-8b0e-bdb58e8ff961",
      "metadata": {},
      "source": [
        "This next cell loads packages which are required for the rest of the\n",
        "code evaluation. In this case, we only need to load the `Plots.jl`\n",
        "plotting package, but you will see others over the course of the\n",
        "semester (and can add more if desired; just make sure that you’ve [added\n",
        "the new packages to the\n",
        "environment](https://viveks.me/environmental-systems-analysis/tutorials/julia-basics.html#package-management)).\n",
        "Standard Julia practice is to load all of the needed packages at the top\n",
        "of the file.\n",
        "\n",
        "> **Warning**\n",
        ">\n",
        "> Loading packages can take a while, especially the first time! Julia\n",
        "> tries to precompile all of the packages you’re using so repeat use is\n",
        "> faster, but this can be quite slow at first."
      ]
    },
    {
      "cell_type": "code",
      "execution_count": 85,
      "id": "4",
      "metadata": {},
      "outputs": [],
      "source": [
        "using Plots"
      ]
    },
    {
      "cell_type": "markdown",
      "id": "6d2bc421-d992-4864-a390-fd6d7820f6c0",
      "metadata": {},
      "source": [
        "## Introduction\n",
        "\n",
        "### Julia\n",
        "\n",
        "Julia is an up-and-coming language, originally developed for scientific\n",
        "programming. While learning a new programming language always has its\n",
        "hiccups, the good news is that if you’ve programmed in a high-level\n",
        "language such as Python or MATLAB, most Julia concepts should look\n",
        "familiar.\n",
        "\n",
        "If you have not successfully set up Julia, follow the instructions in\n",
        "[Tools\n",
        "Setup](https://viveks.me/environmental-systems-analysis/setup.html)\n",
        "and/or ask for help.\n",
        "\n",
        "You can use other editors for this course, but our recommendation is\n",
        "[Visual Studio Code](https://code.visualstudio.com/) with the [Julia\n",
        "extension](https://marketplace.visualstudio.com/items?itemName=julialang.language-julia),\n",
        "which will make life a *lot* simpler! You should have set this up by\n",
        "following the [Tools\n",
        "Setup](https://viveks.me/environmental-systems-analysis/setup.html)\n",
        "instructions, but if not, do so now and/or ask for help.\n",
        "\n",
        "### Jupyter Notebooks\n",
        "\n",
        "Jupyter notebooks integrate text and equations in Markdown with Julia\n",
        "(or Python, or R) code. To do this, Jupyter notebooks consist of two\n",
        "types of “cells”: code cells and Markdown (text) cells.\n",
        "\n",
        "Click once on this section of text. A box will appear around this text\n",
        "(and some areas above/below it) - all of that is within this cell.\n",
        "\n",
        "Markdown is a text markup framework for formatting language that makes\n",
        "things look pretty when viewed across different platforms: web browsers,\n",
        "notebooks, and so forth. Text written in Markdown can also include\n",
        "hyperlinks, LaTeX equations, section headers, and images, among other\n",
        "features (most of [the course\n",
        "website](https://viveks.me/climate-risk-analysis) and the lecture notes\n",
        "were all written in Markdown!). [Here is a basic Markdown cheat\n",
        "sheet](https://www.markdownguide.org/cheat-sheet/).\n",
        "\n",
        "What you are looking at right now is the formatted text after the\n",
        "Markdown is processed. To see the raw Markdown, do one of:\n",
        "\n",
        "-   press `Enter` while that cell is selected, or\n",
        "-   double-click on that cell.\n",
        "\n",
        "------------------------------------------------------------------------\n",
        "\n",
        "A couple of the features you will see in this Markdown cell:\n",
        "\n",
        "-   The `---` command creates a horizontal line. This is also nice for\n",
        "    separating sections.\n",
        "-   Backticks (`` `...` ``) can be used to format and highlight code,\n",
        "    keystrokes, etc.\n",
        "-   The `#` sign is used to create a new section header; two `#` signs\n",
        "    (`##`) is used to create a new subsection header; `###` creates a\n",
        "    subsubsection, and so on.\n",
        "-   You can create a bulleted list by using the asterisk `*` or a dash\n",
        "    `-` and a space.\n",
        "-   You can create regular text by just typing as usual.\n",
        "-   You can create **bold-faced text** by wrapping it with two asterisks\n",
        "    on both sides.\n",
        "-   You can create *italicized text* by wrapping it with a single\n",
        "    asterisk on both sides.\n",
        "-   To create a new paragraph, you must include a blank line between the\n",
        "    old and new paragraphs.\n",
        "\n",
        "At this point you might be wondering how to turn this cell back into the\n",
        "fully formatted Markdown text instead of the raw Markdown you’re\n",
        "probably still looking at. You have a couple of options, depending on\n",
        "your platform, but the most consistent is to type `Shift + Enter` to\n",
        "**execute** the cell (this is also how to run code, but more on that\n",
        "later).\n",
        "\n",
        "Additionally, you will frequently need to create new cells in your\n",
        "Jupyter notebooks. How you do this will depend on how you interact with\n",
        "the notebook, but try to figure this out now.\n",
        "\n",
        "One tip is to think carefully about what bits of code should be in the\n",
        "same cell, as you typically only see output from the last command in a\n",
        "cell. For example, compare the following:"
      ]
    },
    {
      "cell_type": "code",
      "execution_count": 86,
      "id": "6",
      "metadata": {},
      "outputs": [
        {
          "data": {
            "text/plain": [
              "-0.9589242746631385"
            ]
          },
          "metadata": {},
          "output_type": "display_data"
        }
      ],
      "source": [
        "x = 5\n",
        "sin(x)"
      ]
    },
    {
      "cell_type": "markdown",
      "id": "0b56a2f1-81e8-4426-b62a-95cfc3933b92",
      "metadata": {},
      "source": [
        "with"
      ]
    },
    {
      "cell_type": "code",
      "execution_count": 87,
      "id": "8",
      "metadata": {},
      "outputs": [
        {
          "data": {
            "text/plain": [
              "5"
            ]
          },
          "metadata": {},
          "output_type": "display_data"
        }
      ],
      "source": [
        "x = 5"
      ]
    },
    {
      "cell_type": "code",
      "execution_count": 88,
      "id": "10",
      "metadata": {},
      "outputs": [
        {
          "data": {
            "text/plain": [
              "-0.9589242746631385"
            ]
          },
          "metadata": {},
          "output_type": "display_data"
        }
      ],
      "source": [
        "sin(x)"
      ]
    },
    {
      "cell_type": "markdown",
      "id": "474d541d-93e6-47e1-874f-80abd6c9d7cc",
      "metadata": {},
      "source": [
        "In Julia, you can also suppress the output of a command with a\n",
        "semi-colon:"
      ]
    },
    {
      "cell_type": "code",
      "execution_count": 89,
      "id": "12",
      "metadata": {},
      "outputs": [],
      "source": [
        "sin(x);"
      ]
    },
    {
      "cell_type": "markdown",
      "id": "e5950d08-d04e-4fc7-bed8-33e0ee9a1909",
      "metadata": {},
      "source": [
        "which can help if you want to split some code out for clarity or to\n",
        "insert some text prior to it, but don’t want to clutter the notebook\n",
        "with its output.\n",
        "\n",
        "For code cells, to execute the commands within the cell, we also press\n",
        "`Shift+Enter`.\n",
        "\n",
        "Finally, **make sure that you evaluate all of the code cells in order\n",
        "before submitting**. One bad outcome with notebooks occurs when cells\n",
        "are evaluated out of order, so fixed bugs and edits in previous cells do\n",
        "not get a chance to propagate down. You can do this with the `Run All`\n",
        "command in whichever interface you’re using to edit your notebook.\n",
        "\n",
        "### Julia Basics\n",
        "\n",
        "There are many tutorials and references for Julia, including a [basics\n",
        "overview on the class website](../tutorials/julia-basics.html). Please\n",
        "feel free to reference these as you work through any part of the course.\n",
        "\n",
        "### Formatting Math\n",
        "\n",
        "It will often be helpful to include nicely-formatted mathematics in a\n",
        "notebook. Markdown accomodates this using LaTeX syntax. A LaTeX\n",
        "cheatsheet is available on the class website, and many other guides\n",
        "exist online.\n",
        "\n",
        "Below is an example of a formatted equation: $$x = 5.$$\n",
        "\n",
        "### Looking For Help\n",
        "\n",
        "There is no shame in using Google, or other resources, for help when\n",
        "programming. There are many, many times when you can’t quite get the\n",
        "syntax to work, can’t quite figure out the right package or command to\n",
        "use, or are feeling too lazy or overwhelmed (I’m not judging either of\n",
        "those!) to dig through the documentation. Some good resources include:\n",
        "\n",
        "-   [Stack Overflow](https://stackoverflow.com/) is a treasure trove of\n",
        "    answers;\n",
        "-   The [official Julia forum](https://discourse.julialang.org/) and the\n",
        "    [Julia Subreddit](https://www.reddit.com/r/Julia/) are also very\n",
        "    useful.\n",
        "\n",
        "You are also highly encouraged to post on [Ed\n",
        "Discussion](https://us.edstem.org), though getting a response might be\n",
        "less immediate. Just be mindful that to get good answers, [you have to\n",
        "help people help you](https://stackoverflow.com/help/how-to-ask), and\n",
        "**make sure to give credit to any resources that were helpful**!\n",
        "\n",
        "## Exercises (3 points)\n",
        "\n",
        "Use your understanding of Julia syntax and the GitHub workflow to\n",
        "complete the following (hopefully short) exercises. Convert your\n",
        "completed lab assignment to a PDF and submit it to the Gradescope\n",
        "Assignment “Lab 1”.\n",
        "\n",
        "**Remember to**:\n",
        "\n",
        "-   Include a (succint but clear) writeup of the core idea underlying\n",
        "    your code, through some combination of equations, text, and\n",
        "    algorithms. As you are not required to submit your code, we will not\n",
        "    be looking at it in detail, and instead will rely on those writeups\n",
        "    to assess whether your approach is correct.\n",
        "-   If using the notebook, evaluate all of your code cells, in order\n",
        "    (using a `Run All` command). This will make sure all output is\n",
        "    visible and that the code cells were evaluated in the correct order.\n",
        "-   Tag each of the problems when you submit to Gradescope; a 10%\n",
        "    penalty will be deducted if this is not done.\n",
        "\n",
        "### Computing a Dot Product\n",
        "\n",
        "Given two numeric arrays `x` and `y`, write a function to compute their\n",
        "dot product if they have equal length, and return an error if not (this\n",
        "is useful for debugging!). Use the following code as a starting point."
      ]
    },
    {
      "cell_type": "code",
      "execution_count": 90,
      "id": "14",
      "metadata": {},
      "outputs": [
        {
          "data": {
            "text/plain": [
              "dot_product (generic function with 1 method)"
            ]
          },
          "metadata": {},
          "output_type": "display_data"
        }
      ],
      "source": [
        "function dot_product(x, y)\n",
        "    if length(x) == length(y)\n",
        "        a = x .* y \n",
        "        prod = sum(a)\n",
        "    else\n",
        "        throw(DimensionMismatch(\"length of x not equal to length of y\"))\n",
        "    end\n",
        "    return prod\n",
        "end"
      ]
    },
    {
      "cell_type": "markdown",
      "id": "e0ce47a6-a5e8-4cd8-a776-5b04adfa6330",
      "metadata": {},
      "source": [
        "Here are some tests to make sure your code works as intended. Tests like\n",
        "these are useful to make sure everything works as intended. One reason\n",
        "to split your code up into functions is that it makes it straightforward\n",
        "to write tests to make sure each piece of your code works, which makes\n",
        "it easier to identify where errors are occuring."
      ]
    },
    {
      "cell_type": "code",
      "execution_count": 91,
      "id": "16",
      "metadata": {},
      "outputs": [
        {
          "data": {
            "text/plain": [
              "32"
            ]
          },
          "metadata": {},
          "output_type": "display_data"
        }
      ],
      "source": [
        "dot_product([1 2 3], [4 5 6])"
      ]
    },
    {
      "cell_type": "markdown",
      "id": "37f85171-25e8-4513-b57c-af25ff4378e7",
      "metadata": {},
      "source": [
        "If you know the value you should get, you can write a more formal test\n",
        "using the `@assert` macro, which is a good way to “automate” checking\n",
        "(since you get an obvious error if the code doesn’t work as desired):"
      ]
    },
    {
      "cell_type": "code",
      "execution_count": 92,
      "id": "18",
      "metadata": {},
      "outputs": [],
      "source": [
        "@assert dot_product([1 2 3], [4 5 6]) == 32"
      ]
    },
    {
      "cell_type": "markdown",
      "id": "65ccdcd8-449e-4f0c-8f4e-7953ea267f8d",
      "metadata": {},
      "source": [
        "Let’s also make sure we get an error when the dimensions of the two\n",
        "vectors don’t match:"
      ]
    },
    {
      "cell_type": "code",
      "execution_count": 93,
      "id": "20",
      "metadata": {},
      "outputs": [
        {
          "ename": "DimensionMismatch",
          "evalue": "DimensionMismatch: length of x not equal to length of y",
          "output_type": "error",
          "traceback": [
            "DimensionMismatch: length of x not equal to length of y\n",
            "\n",
            "Stacktrace:\n",
            " [1] dot_product(x::Matrix{Int64}, y::Matrix{Int64})\n",
            "   @ Main ~/Desktop/FA24/BEE4750/Lab/lab-1-En-Lo/jl_notebook_cell_df34fa98e69747e1a8f8a730347b8e2f_X15sZmlsZQ==.jl:6\n",
            " [2] top-level scope\n",
            "   @ ~/Desktop/FA24/BEE4750/Lab/lab-1-En-Lo/jl_notebook_cell_df34fa98e69747e1a8f8a730347b8e2f_X24sZmlsZQ==.jl:1"
          ]
        }
      ],
      "source": [
        "dot_product([1 2 3], [4 5])"
      ]
    },
    {
      "cell_type": "markdown",
      "id": "8c069a05-159a-43b4-aa3f-d1fec9a2f727",
      "metadata": {},
      "source": [
        "### Making a Plot\n",
        "\n",
        "Write a function to compute the square of an integer `x`. Evaluate this\n",
        "function for integers between $x=-5$ and $x=5$ and make a plot of the\n",
        "squared values (you can find a quick guide to making various types of\n",
        "plots\n",
        "[here](https://viveks.me/environmental-systems-analysis/tutorials/julia-plots.html)).\n",
        "Make sure to label your axes."
      ]
    },
    {
      "cell_type": "code",
      "execution_count": 94,
      "id": "22",
      "metadata": {},
      "outputs": [
        {
          "data": {
            "image/png": "[encoded data removed]",
            "image/svg+xml": [
              "<?xml version=\"1.0\" encoding=\"utf-8\"?>\n",
              "<svg xmlns=\"http://www.w3.org/2000/svg\" xmlns:xlink=\"http://www.w3.org/1999/xlink\" width=\"600\" height=\"400\" viewBox=\"0 0 2400 1600\">\n",
              "<defs>\n",
              "  <clipPath id=\"clip630\">\n",
              "    <rect x=\"0\" y=\"0\" width=\"2400\" height=\"1600\"/>\n",
              "  </clipPath>\n",
              "</defs>\n",
              "<path clip-path=\"url(#clip630)\" d=\"M0 1600 L2400 1600 L2400 0 L0 0  Z\" fill=\"#ffffff\" fill-rule=\"evenodd\" fill-opacity=\"1\"/>\n",
              "<defs>\n",
              "  <clipPath id=\"clip631\">\n",
              "    <rect x=\"480\" y=\"0\" width=\"1681\" height=\"1600\"/>\n",
              "  </clipPath>\n",
              "</defs>\n",
              "<path clip-path=\"url(#clip630)\" d=\"M203.964 1423.18 L2352.76 1423.18 L2352.76 47.2441 L203.964 47.2441  Z\" fill=\"#ffffff\" fill-rule=\"evenodd\" fill-opacity=\"1\"/>\n",
              "<defs>\n",
              "  <clipPath id=\"clip632\">\n",
              "    <rect x=\"203\" y=\"47\" width=\"2150\" height=\"1377\"/>\n",
              "  </clipPath>\n",
              "</defs>\n",
              "<polyline clip-path=\"url(#clip632)\" style=\"stroke:#000000; stroke-linecap:round; stroke-linejoin:round; stroke-width:2; stroke-opacity:0.1; fill:none\" points=\"467.495,1423.18 467.495,47.2441 \"/>\n",
              "<polyline clip-path=\"url(#clip632)\" style=\"stroke:#000000; stroke-linecap:round; stroke-linejoin:round; stroke-width:2; stroke-opacity:0.1; fill:none\" points=\"872.927,1423.18 872.927,47.2441 \"/>\n",
              "<polyline clip-path=\"url(#clip632)\" style=\"stroke:#000000; stroke-linecap:round; stroke-linejoin:round; stroke-width:2; stroke-opacity:0.1; fill:none\" points=\"1278.36,1423.18 1278.36,47.2441 \"/>\n",
              "<polyline clip-path=\"url(#clip632)\" style=\"stroke:#000000; stroke-linecap:round; stroke-linejoin:round; stroke-width:2; stroke-opacity:0.1; fill:none\" points=\"1683.79,1423.18 1683.79,47.2441 \"/>\n",
              "<polyline clip-path=\"url(#clip632)\" style=\"stroke:#000000; stroke-linecap:round; stroke-linejoin:round; stroke-width:2; stroke-opacity:0.1; fill:none\" points=\"2089.22,1423.18 2089.22,47.2441 \"/>\n",
              "<polyline clip-path=\"url(#clip630)\" style=\"stroke:#000000; stroke-linecap:round; stroke-linejoin:round; stroke-width:4; stroke-opacity:1; fill:none\" points=\"203.964,1423.18 2352.76,1423.18 \"/>\n",
              "<polyline clip-path=\"url(#clip630)\" style=\"stroke:#000000; stroke-linecap:round; stroke-linejoin:round; stroke-width:4; stroke-opacity:1; fill:none\" points=\"467.495,1423.18 467.495,1404.28 \"/>\n",
              "<polyline clip-path=\"url(#clip630)\" style=\"stroke:#000000; stroke-linecap:round; stroke-linejoin:round; stroke-width:4; stroke-opacity:1; fill:none\" points=\"872.927,1423.18 872.927,1404.28 \"/>\n",
              "<polyline clip-path=\"url(#clip630)\" style=\"stroke:#000000; stroke-linecap:round; stroke-linejoin:round; stroke-width:4; stroke-opacity:1; fill:none\" points=\"1278.36,1423.18 1278.36,1404.28 \"/>\n",
              "<polyline clip-path=\"url(#clip630)\" style=\"stroke:#000000; stroke-linecap:round; stroke-linejoin:round; stroke-width:4; stroke-opacity:1; fill:none\" points=\"1683.79,1423.18 1683.79,1404.28 \"/>\n",
              "<polyline clip-path=\"url(#clip630)\" style=\"stroke:#000000; stroke-linecap:round; stroke-linejoin:round; stroke-width:4; stroke-opacity:1; fill:none\" points=\"2089.22,1423.18 2089.22,1404.28 \"/>\n",
              "<path clip-path=\"url(#clip630)\" d=\"M436.395 1468.75 L466.071 1468.75 L466.071 1472.69 L436.395 1472.69 L436.395 1468.75 Z\" fill=\"#000000\" fill-rule=\"nonzero\" fill-opacity=\"1\" /><path clip-path=\"url(#clip630)\" d=\"M489.011 1455.09 L477.205 1473.54 L489.011 1473.54 L489.011 1455.09 M487.784 1451.02 L493.664 1451.02 L493.664 1473.54 L498.594 1473.54 L498.594 1477.43 L493.664 1477.43 L493.664 1485.58 L489.011 1485.58 L489.011 1477.43 L473.409 1477.43 L473.409 1472.92 L487.784 1451.02 Z\" fill=\"#000000\" fill-rule=\"nonzero\" fill-opacity=\"1\" /><path clip-path=\"url(#clip630)\" d=\"M842.87 1468.75 L872.545 1468.75 L872.545 1472.69 L842.87 1472.69 L842.87 1468.75 Z\" fill=\"#000000\" fill-rule=\"nonzero\" fill-opacity=\"1\" /><path clip-path=\"url(#clip630)\" d=\"M886.666 1481.64 L902.985 1481.64 L902.985 1485.58 L881.041 1485.58 L881.041 1481.64 Q883.703 1478.89 888.286 1474.26 Q892.892 1469.61 894.073 1468.27 Q896.318 1465.74 897.198 1464.01 Q898.101 1462.25 898.101 1460.56 Q898.101 1457.8 896.156 1456.07 Q894.235 1454.33 891.133 1454.33 Q888.934 1454.33 886.48 1455.09 Q884.05 1455.86 881.272 1457.41 L881.272 1452.69 Q884.096 1451.55 886.55 1450.97 Q889.004 1450.39 891.041 1450.39 Q896.411 1450.39 899.605 1453.08 Q902.8 1455.77 902.8 1460.26 Q902.8 1462.39 901.99 1464.31 Q901.203 1466.2 899.096 1468.8 Q898.517 1469.47 895.416 1472.69 Q892.314 1475.88 886.666 1481.64 Z\" fill=\"#000000\" fill-rule=\"nonzero\" fill-opacity=\"1\" /><path clip-path=\"url(#clip630)\" d=\"M1278.36 1454.1 Q1274.75 1454.1 1272.92 1457.66 Q1271.11 1461.2 1271.11 1468.33 Q1271.11 1475.44 1272.92 1479.01 Q1274.75 1482.55 1278.36 1482.55 Q1281.99 1482.55 1283.8 1479.01 Q1285.63 1475.44 1285.63 1468.33 Q1285.63 1461.2 1283.8 1457.66 Q1281.99 1454.1 1278.36 1454.1 M1278.36 1450.39 Q1284.17 1450.39 1287.23 1455 Q1290.3 1459.58 1290.3 1468.33 Q1290.3 1477.06 1287.23 1481.67 Q1284.17 1486.25 1278.36 1486.25 Q1272.55 1486.25 1269.47 1481.67 Q1266.42 1477.06 1266.42 1468.33 Q1266.42 1459.58 1269.47 1455 Q1272.55 1450.39 1278.36 1450.39 Z\" fill=\"#000000\" fill-rule=\"nonzero\" fill-opacity=\"1\" /><path clip-path=\"url(#clip630)\" d=\"M1678.45 1481.64 L1694.76 1481.64 L1694.76 1485.58 L1672.82 1485.58 L1672.82 1481.64 Q1675.48 1478.89 1680.07 1474.26 Q1684.67 1469.61 1685.85 1468.27 Q1688.1 1465.74 1688.98 1464.01 Q1689.88 1462.25 1689.88 1460.56 Q1689.88 1457.8 1687.94 1456.07 Q1686.01 1454.33 1682.91 1454.33 Q1680.71 1454.33 1678.26 1455.09 Q1675.83 1455.86 1673.05 1457.41 L1673.05 1452.69 Q1675.88 1451.55 1678.33 1450.97 Q1680.78 1450.39 1682.82 1450.39 Q1688.19 1450.39 1691.38 1453.08 Q1694.58 1455.77 1694.58 1460.26 Q1694.58 1462.39 1693.77 1464.31 Q1692.98 1466.2 1690.88 1468.8 Q1690.3 1469.47 1687.2 1472.69 Q1684.09 1475.88 1678.45 1481.64 Z\" fill=\"#000000\" fill-rule=\"nonzero\" fill-opacity=\"1\" /><path clip-path=\"url(#clip630)\" d=\"M2092.23 1455.09 L2080.43 1473.54 L2092.23 1473.54 L2092.23 1455.09 M2091.01 1451.02 L2096.89 1451.02 L2096.89 1473.54 L2101.82 1473.54 L2101.82 1477.43 L2096.89 1477.43 L2096.89 1485.58 L2092.23 1485.58 L2092.23 1477.43 L2076.63 1477.43 L2076.63 1472.92 L2091.01 1451.02 Z\" fill=\"#000000\" fill-rule=\"nonzero\" fill-opacity=\"1\" /><path clip-path=\"url(#clip630)\" d=\"M1099.64 1532.4 L1105.5 1532.4 L1105.5 1568.04 L1099.64 1568.04 L1099.64 1532.4 M1099.64 1518.52 L1105.5 1518.52 L1105.5 1525.93 L1099.64 1525.93 L1099.64 1518.52 Z\" fill=\"#000000\" fill-rule=\"nonzero\" fill-opacity=\"1\" /><path clip-path=\"url(#clip630)\" d=\"M1147.39 1546.53 L1147.39 1568.04 L1141.53 1568.04 L1141.53 1546.72 Q1141.53 1541.66 1139.56 1539.14 Q1137.58 1536.63 1133.64 1536.63 Q1128.89 1536.63 1126.16 1539.65 Q1123.42 1542.68 1123.42 1547.9 L1123.42 1568.04 L1117.53 1568.04 L1117.53 1532.4 L1123.42 1532.4 L1123.42 1537.93 Q1125.52 1534.72 1128.35 1533.13 Q1131.22 1531.54 1134.94 1531.54 Q1141.08 1531.54 1144.23 1535.36 Q1147.39 1539.14 1147.39 1546.53 Z\" fill=\"#000000\" fill-rule=\"nonzero\" fill-opacity=\"1\" /><path clip-path=\"url(#clip630)\" d=\"M1164.86 1522.27 L1164.86 1532.4 L1176.92 1532.4 L1176.92 1536.95 L1164.86 1536.95 L1164.86 1556.3 Q1164.86 1560.66 1166.04 1561.9 Q1167.25 1563.14 1170.91 1563.14 L1176.92 1563.14 L1176.92 1568.04 L1170.91 1568.04 Q1164.13 1568.04 1161.55 1565.53 Q1158.97 1562.98 1158.97 1556.3 L1158.97 1536.95 L1154.67 1536.95 L1154.67 1532.4 L1158.97 1532.4 L1158.97 1522.27 L1164.86 1522.27 Z\" fill=\"#000000\" fill-rule=\"nonzero\" fill-opacity=\"1\" /><path clip-path=\"url(#clip630)\" d=\"M1215.12 1548.76 L1215.12 1551.62 L1188.19 1551.62 Q1188.57 1557.67 1191.82 1560.85 Q1195.1 1564 1200.92 1564 Q1204.29 1564 1207.45 1563.17 Q1210.63 1562.35 1213.75 1560.69 L1213.75 1566.23 Q1210.6 1567.57 1207.29 1568.27 Q1203.98 1568.97 1200.57 1568.97 Q1192.04 1568.97 1187.04 1564 Q1182.08 1559.04 1182.08 1550.57 Q1182.08 1541.82 1186.79 1536.69 Q1191.53 1531.54 1199.55 1531.54 Q1206.75 1531.54 1210.92 1536.18 Q1215.12 1540.8 1215.12 1548.76 M1209.26 1547.04 Q1209.2 1542.23 1206.55 1539.37 Q1203.94 1536.5 1199.62 1536.5 Q1194.71 1536.5 1191.75 1539.27 Q1188.83 1542.04 1188.38 1547.07 L1209.26 1547.04 Z\" fill=\"#000000\" fill-rule=\"nonzero\" fill-opacity=\"1\" /><path clip-path=\"url(#clip630)\" d=\"M1245.39 1537.87 Q1244.4 1537.3 1243.22 1537.04 Q1242.08 1536.76 1240.67 1536.76 Q1235.71 1536.76 1233.04 1540 Q1230.39 1543.22 1230.39 1549.27 L1230.39 1568.04 L1224.51 1568.04 L1224.51 1532.4 L1230.39 1532.4 L1230.39 1537.93 Q1232.24 1534.69 1235.2 1533.13 Q1238.16 1531.54 1242.39 1531.54 Q1243 1531.54 1243.73 1531.63 Q1244.46 1531.7 1245.35 1531.85 L1245.39 1537.87 Z\" fill=\"#000000\" fill-rule=\"nonzero\" fill-opacity=\"1\" /><path clip-path=\"url(#clip630)\" d=\"M1273.84 1549.81 Q1273.84 1543.44 1271.2 1539.94 Q1268.59 1536.44 1263.85 1536.44 Q1259.14 1536.44 1256.49 1539.94 Q1253.88 1543.44 1253.88 1549.81 Q1253.88 1556.14 1256.49 1559.64 Q1259.14 1563.14 1263.85 1563.14 Q1268.59 1563.14 1271.2 1559.64 Q1273.84 1556.14 1273.84 1549.81 M1279.7 1563.62 Q1279.7 1572.72 1275.65 1577.15 Q1271.61 1581.6 1263.27 1581.6 Q1260.19 1581.6 1257.45 1581.13 Q1254.71 1580.68 1252.13 1579.72 L1252.13 1574.03 Q1254.71 1575.43 1257.23 1576.1 Q1259.74 1576.76 1262.35 1576.76 Q1268.11 1576.76 1270.98 1573.74 Q1273.84 1570.75 1273.84 1564.67 L1273.84 1561.77 Q1272.03 1564.92 1269.19 1566.48 Q1266.36 1568.04 1262.41 1568.04 Q1255.86 1568.04 1251.85 1563.05 Q1247.84 1558.05 1247.84 1549.81 Q1247.84 1541.53 1251.85 1536.53 Q1255.86 1531.54 1262.41 1531.54 Q1266.36 1531.54 1269.19 1533.1 Q1272.03 1534.66 1273.84 1537.81 L1273.84 1532.4 L1279.7 1532.4 L1279.7 1563.62 Z\" fill=\"#000000\" fill-rule=\"nonzero\" fill-opacity=\"1\" /><path clip-path=\"url(#clip630)\" d=\"M1322.25 1548.76 L1322.25 1551.62 L1295.32 1551.62 Q1295.71 1557.67 1298.95 1560.85 Q1302.23 1564 1308.06 1564 Q1311.43 1564 1314.58 1563.17 Q1317.76 1562.35 1320.88 1560.69 L1320.88 1566.23 Q1317.73 1567.57 1314.42 1568.27 Q1311.11 1568.97 1307.71 1568.97 Q1299.18 1568.97 1294.18 1564 Q1289.21 1559.04 1289.21 1550.57 Q1289.21 1541.82 1293.92 1536.69 Q1298.67 1531.54 1306.69 1531.54 Q1313.88 1531.54 1318.05 1536.18 Q1322.25 1540.8 1322.25 1548.76 M1316.39 1547.04 Q1316.33 1542.23 1313.69 1539.37 Q1311.08 1536.5 1306.75 1536.5 Q1301.85 1536.5 1298.89 1539.27 Q1295.96 1542.04 1295.52 1547.07 L1316.39 1547.04 Z\" fill=\"#000000\" fill-rule=\"nonzero\" fill-opacity=\"1\" /><path clip-path=\"url(#clip630)\" d=\"M1352.52 1537.87 Q1351.53 1537.3 1350.36 1537.04 Q1349.21 1536.76 1347.81 1536.76 Q1342.84 1536.76 1340.17 1540 Q1337.53 1543.22 1337.53 1549.27 L1337.53 1568.04 L1331.64 1568.04 L1331.64 1532.4 L1337.53 1532.4 L1337.53 1537.93 Q1339.38 1534.69 1342.34 1533.13 Q1345.3 1531.54 1349.53 1531.54 Q1350.13 1531.54 1350.87 1531.63 Q1351.6 1531.7 1352.49 1531.85 L1352.52 1537.87 Z\" fill=\"#000000\" fill-rule=\"nonzero\" fill-opacity=\"1\" /><path clip-path=\"url(#clip630)\" d=\"M1393.45 1518.58 Q1389.19 1525.9 1387.12 1533.06 Q1385.05 1540.23 1385.05 1547.58 Q1385.05 1554.93 1387.12 1562.16 Q1389.22 1569.35 1393.45 1576.64 L1388.36 1576.64 Q1383.58 1569.16 1381.2 1561.93 Q1378.84 1554.71 1378.84 1547.58 Q1378.84 1540.48 1381.2 1533.29 Q1383.55 1526.09 1388.36 1518.58 L1393.45 1518.58 Z\" fill=\"#000000\" fill-rule=\"nonzero\" fill-opacity=\"1\" /><path clip-path=\"url(#clip630)\" d=\"M1434.45 1532.4 L1421.56 1549.74 L1435.12 1568.04 L1428.21 1568.04 L1417.83 1554.04 L1407.46 1568.04 L1400.55 1568.04 L1414.39 1549.39 L1401.73 1532.4 L1408.63 1532.4 L1418.09 1545.1 L1427.54 1532.4 L1434.45 1532.4 Z\" fill=\"#000000\" fill-rule=\"nonzero\" fill-opacity=\"1\" /><path clip-path=\"url(#clip630)\" d=\"M1442.47 1518.58 L1447.56 1518.58 Q1452.33 1526.09 1454.69 1533.29 Q1457.08 1540.48 1457.08 1547.58 Q1457.08 1554.71 1454.69 1561.93 Q1452.33 1569.16 1447.56 1576.64 L1442.47 1576.64 Q1446.7 1569.35 1448.77 1562.16 Q1450.87 1554.93 1450.87 1547.58 Q1450.87 1540.23 1448.77 1533.06 Q1446.7 1525.9 1442.47 1518.58 Z\" fill=\"#000000\" fill-rule=\"nonzero\" fill-opacity=\"1\" /><polyline clip-path=\"url(#clip632)\" style=\"stroke:#000000; stroke-linecap:round; stroke-linejoin:round; stroke-width:2; stroke-opacity:0.1; fill:none\" points=\"203.964,1384.24 2352.76,1384.24 \"/>\n",
              "<polyline clip-path=\"url(#clip632)\" style=\"stroke:#000000; stroke-linecap:round; stroke-linejoin:round; stroke-width:2; stroke-opacity:0.1; fill:none\" points=\"203.964,1124.63 2352.76,1124.63 \"/>\n",
              "<polyline clip-path=\"url(#clip632)\" style=\"stroke:#000000; stroke-linecap:round; stroke-linejoin:round; stroke-width:2; stroke-opacity:0.1; fill:none\" points=\"203.964,865.017 2352.76,865.017 \"/>\n",
              "<polyline clip-path=\"url(#clip632)\" style=\"stroke:#000000; stroke-linecap:round; stroke-linejoin:round; stroke-width:2; stroke-opacity:0.1; fill:none\" points=\"203.964,605.407 2352.76,605.407 \"/>\n",
              "<polyline clip-path=\"url(#clip632)\" style=\"stroke:#000000; stroke-linecap:round; stroke-linejoin:round; stroke-width:2; stroke-opacity:0.1; fill:none\" points=\"203.964,345.796 2352.76,345.796 \"/>\n",
              "<polyline clip-path=\"url(#clip632)\" style=\"stroke:#000000; stroke-linecap:round; stroke-linejoin:round; stroke-width:2; stroke-opacity:0.1; fill:none\" points=\"203.964,86.1857 2352.76,86.1857 \"/>\n",
              "<polyline clip-path=\"url(#clip630)\" style=\"stroke:#000000; stroke-linecap:round; stroke-linejoin:round; stroke-width:4; stroke-opacity:1; fill:none\" points=\"203.964,1423.18 203.964,47.2441 \"/>\n",
              "<polyline clip-path=\"url(#clip630)\" style=\"stroke:#000000; stroke-linecap:round; stroke-linejoin:round; stroke-width:4; stroke-opacity:1; fill:none\" points=\"203.964,1384.24 222.861,1384.24 \"/>\n",
              "<polyline clip-path=\"url(#clip630)\" style=\"stroke:#000000; stroke-linecap:round; stroke-linejoin:round; stroke-width:4; stroke-opacity:1; fill:none\" points=\"203.964,1124.63 222.861,1124.63 \"/>\n",
              "<polyline clip-path=\"url(#clip630)\" style=\"stroke:#000000; stroke-linecap:round; stroke-linejoin:round; stroke-width:4; stroke-opacity:1; fill:none\" points=\"203.964,865.017 222.861,865.017 \"/>\n",
              "<polyline clip-path=\"url(#clip630)\" style=\"stroke:#000000; stroke-linecap:round; stroke-linejoin:round; stroke-width:4; stroke-opacity:1; fill:none\" points=\"203.964,605.407 222.861,605.407 \"/>\n",
              "<polyline clip-path=\"url(#clip630)\" style=\"stroke:#000000; stroke-linecap:round; stroke-linejoin:round; stroke-width:4; stroke-opacity:1; fill:none\" points=\"203.964,345.796 222.861,345.796 \"/>\n",
              "<polyline clip-path=\"url(#clip630)\" style=\"stroke:#000000; stroke-linecap:round; stroke-linejoin:round; stroke-width:4; stroke-opacity:1; fill:none\" points=\"203.964,86.1857 222.861,86.1857 \"/>\n",
              "<path clip-path=\"url(#clip630)\" d=\"M156.019 1370.04 Q152.408 1370.04 150.579 1373.6 Q148.774 1377.14 148.774 1384.27 Q148.774 1391.38 150.579 1394.94 Q152.408 1398.49 156.019 1398.49 Q159.653 1398.49 161.459 1394.94 Q163.288 1391.38 163.288 1384.27 Q163.288 1377.14 161.459 1373.6 Q159.653 1370.04 156.019 1370.04 M156.019 1366.33 Q161.829 1366.33 164.885 1370.94 Q167.964 1375.52 167.964 1384.27 Q167.964 1393 164.885 1397.61 Q161.829 1402.19 156.019 1402.19 Q150.209 1402.19 147.13 1397.61 Q144.075 1393 144.075 1384.27 Q144.075 1375.52 147.13 1370.94 Q150.209 1366.33 156.019 1366.33 Z\" fill=\"#000000\" fill-rule=\"nonzero\" fill-opacity=\"1\" /><path clip-path=\"url(#clip630)\" d=\"M147.061 1107.35 L165.417 1107.35 L165.417 1111.28 L151.343 1111.28 L151.343 1119.76 Q152.362 1119.41 153.38 1119.25 Q154.399 1119.06 155.417 1119.06 Q161.204 1119.06 164.584 1122.23 Q167.964 1125.4 167.964 1130.82 Q167.964 1136.4 164.491 1139.5 Q161.019 1142.58 154.7 1142.58 Q152.524 1142.58 150.255 1142.21 Q148.01 1141.84 145.603 1141.1 L145.603 1136.4 Q147.686 1137.53 149.908 1138.09 Q152.13 1138.64 154.607 1138.64 Q158.612 1138.64 160.95 1136.54 Q163.288 1134.43 163.288 1130.82 Q163.288 1127.21 160.95 1125.1 Q158.612 1123 154.607 1123 Q152.732 1123 150.857 1123.41 Q149.005 1123.83 147.061 1124.71 L147.061 1107.35 Z\" fill=\"#000000\" fill-rule=\"nonzero\" fill-opacity=\"1\" /><path clip-path=\"url(#clip630)\" d=\"M116.668 878.362 L124.306 878.362 L124.306 851.996 L115.996 853.663 L115.996 849.404 L124.26 847.737 L128.936 847.737 L128.936 878.362 L136.575 878.362 L136.575 882.297 L116.668 882.297 L116.668 878.362 Z\" fill=\"#000000\" fill-rule=\"nonzero\" fill-opacity=\"1\" /><path clip-path=\"url(#clip630)\" d=\"M156.019 850.816 Q152.408 850.816 150.579 854.381 Q148.774 857.922 148.774 865.052 Q148.774 872.158 150.579 875.723 Q152.408 879.265 156.019 879.265 Q159.653 879.265 161.459 875.723 Q163.288 872.158 163.288 865.052 Q163.288 857.922 161.459 854.381 Q159.653 850.816 156.019 850.816 M156.019 847.112 Q161.829 847.112 164.885 851.719 Q167.964 856.302 167.964 865.052 Q167.964 873.779 164.885 878.385 Q161.829 882.969 156.019 882.969 Q150.209 882.969 147.13 878.385 Q144.075 873.779 144.075 865.052 Q144.075 856.302 147.13 851.719 Q150.209 847.112 156.019 847.112 Z\" fill=\"#000000\" fill-rule=\"nonzero\" fill-opacity=\"1\" /><path clip-path=\"url(#clip630)\" d=\"M117.663 618.752 L125.302 618.752 L125.302 592.386 L116.992 594.053 L116.992 589.793 L125.255 588.127 L129.931 588.127 L129.931 618.752 L137.57 618.752 L137.57 622.687 L117.663 622.687 L117.663 618.752 Z\" fill=\"#000000\" fill-rule=\"nonzero\" fill-opacity=\"1\" /><path clip-path=\"url(#clip630)\" d=\"M147.061 588.127 L165.417 588.127 L165.417 592.062 L151.343 592.062 L151.343 600.534 Q152.362 600.187 153.38 600.025 Q154.399 599.84 155.417 599.84 Q161.204 599.84 164.584 603.011 Q167.964 606.182 167.964 611.599 Q167.964 617.177 164.491 620.279 Q161.019 623.358 154.7 623.358 Q152.524 623.358 150.255 622.988 Q148.01 622.617 145.603 621.877 L145.603 617.177 Q147.686 618.312 149.908 618.867 Q152.13 619.423 154.607 619.423 Q158.612 619.423 160.95 617.316 Q163.288 615.21 163.288 611.599 Q163.288 607.988 160.95 605.881 Q158.612 603.775 154.607 603.775 Q152.732 603.775 150.857 604.191 Q149.005 604.608 147.061 605.488 L147.061 588.127 Z\" fill=\"#000000\" fill-rule=\"nonzero\" fill-opacity=\"1\" /><path clip-path=\"url(#clip630)\" d=\"M119.885 359.141 L136.204 359.141 L136.204 363.076 L114.26 363.076 L114.26 359.141 Q116.922 356.386 121.505 351.757 Q126.112 347.104 127.292 345.761 Q129.538 343.238 130.417 341.502 Q131.32 339.743 131.32 338.053 Q131.32 335.299 129.376 333.562 Q127.455 331.826 124.353 331.826 Q122.154 331.826 119.7 332.59 Q117.269 333.354 114.492 334.905 L114.492 330.183 Q117.316 329.049 119.769 328.47 Q122.223 327.891 124.26 327.891 Q129.63 327.891 132.825 330.576 Q136.019 333.262 136.019 337.752 Q136.019 339.882 135.209 341.803 Q134.422 343.701 132.316 346.294 Q131.737 346.965 128.635 350.183 Q125.533 353.377 119.885 359.141 Z\" fill=\"#000000\" fill-rule=\"nonzero\" fill-opacity=\"1\" /><path clip-path=\"url(#clip630)\" d=\"M156.019 331.595 Q152.408 331.595 150.579 335.16 Q148.774 338.701 148.774 345.831 Q148.774 352.937 150.579 356.502 Q152.408 360.044 156.019 360.044 Q159.653 360.044 161.459 356.502 Q163.288 352.937 163.288 345.831 Q163.288 338.701 161.459 335.16 Q159.653 331.595 156.019 331.595 M156.019 327.891 Q161.829 327.891 164.885 332.498 Q167.964 337.081 167.964 345.831 Q167.964 354.558 164.885 359.164 Q161.829 363.747 156.019 363.747 Q150.209 363.747 147.13 359.164 Q144.075 354.558 144.075 345.831 Q144.075 337.081 147.13 332.498 Q150.209 327.891 156.019 327.891 Z\" fill=\"#000000\" fill-rule=\"nonzero\" fill-opacity=\"1\" /><path clip-path=\"url(#clip630)\" d=\"M120.88 99.5305 L137.2 99.5305 L137.2 103.466 L115.256 103.466 L115.256 99.5305 Q117.918 96.7759 122.501 92.1463 Q127.107 87.4935 128.288 86.151 Q130.533 83.6278 131.413 81.8917 Q132.316 80.1325 132.316 78.4427 Q132.316 75.688 130.371 73.9519 Q128.45 72.2158 125.348 72.2158 Q123.149 72.2158 120.695 72.9797 Q118.265 73.7436 115.487 75.2945 L115.487 70.5723 Q118.311 69.4381 120.765 68.8594 Q123.218 68.2807 125.255 68.2807 Q130.626 68.2807 133.82 70.9658 Q137.015 73.651 137.015 78.1417 Q137.015 80.2714 136.204 82.1926 Q135.417 84.0908 133.311 86.6834 Q132.732 87.3546 129.63 90.5722 Q126.529 93.7667 120.88 99.5305 Z\" fill=\"#000000\" fill-rule=\"nonzero\" fill-opacity=\"1\" /><path clip-path=\"url(#clip630)\" d=\"M147.061 68.9057 L165.417 68.9057 L165.417 72.8408 L151.343 72.8408 L151.343 81.313 Q152.362 80.9658 153.38 80.8038 Q154.399 80.6186 155.417 80.6186 Q161.204 80.6186 164.584 83.7899 Q167.964 86.9611 167.964 92.3778 Q167.964 97.9564 164.491 101.058 Q161.019 104.137 154.7 104.137 Q152.524 104.137 150.255 103.767 Q148.01 103.396 145.603 102.655 L145.603 97.9564 Q147.686 99.0907 149.908 99.6462 Q152.13 100.202 154.607 100.202 Q158.612 100.202 160.95 98.0953 Q163.288 95.9889 163.288 92.3778 Q163.288 88.7667 160.95 86.6602 Q158.612 84.5537 154.607 84.5537 Q152.732 84.5537 150.857 84.9704 Q149.005 85.3871 147.061 86.2667 L147.061 68.9057 Z\" fill=\"#000000\" fill-rule=\"nonzero\" fill-opacity=\"1\" /><path clip-path=\"url(#clip630)\" d=\"M29.4065 1021.54 L34.9447 1021.54 Q33.6716 1024.02 33.035 1026.7 Q32.3984 1029.37 32.3984 1032.24 Q32.3984 1036.6 33.7352 1038.79 Q35.072 1040.96 37.7456 1040.96 Q39.7826 1040.96 40.9603 1039.4 Q42.1061 1037.84 43.1565 1033.13 L43.6021 1031.12 Q44.9389 1024.88 47.3897 1022.27 Q49.8086 1019.63 54.1691 1019.63 Q59.1344 1019.63 62.0308 1023.58 Q64.9272 1027.49 64.9272 1034.37 Q64.9272 1037.23 64.3543 1040.35 Q63.8132 1043.44 62.6992 1046.88 L56.6518 1046.88 Q58.3387 1043.63 59.198 1040.48 Q60.0256 1037.33 60.0256 1034.24 Q60.0256 1030.1 58.6251 1027.88 Q57.1929 1025.65 54.6147 1025.65 Q52.2276 1025.65 50.9545 1027.27 Q49.6813 1028.86 48.5037 1034.3 L48.0262 1036.34 Q46.8804 1041.78 44.5251 1044.2 Q42.138 1046.62 38.0002 1046.62 Q32.9713 1046.62 30.2341 1043.06 Q27.4968 1039.49 27.4968 1032.94 Q27.4968 1029.69 27.9743 1026.82 Q28.4517 1023.96 29.4065 1021.54 Z\" fill=\"#000000\" fill-rule=\"nonzero\" fill-opacity=\"1\" /><path clip-path=\"url(#clip630)\" d=\"M46.212 1006.8 Q52.6732 1006.8 56.3653 1004.16 Q60.0256 1001.49 60.0256 996.843 Q60.0256 992.196 56.3653 989.522 Q52.6732 986.848 46.212 986.848 Q39.7508 986.848 36.0905 989.522 Q32.3984 992.196 32.3984 996.843 Q32.3984 1001.49 36.0905 1004.16 Q39.7508 1006.8 46.212 1006.8 M58.657 986.848 Q61.8398 988.694 63.3994 991.527 Q64.9272 994.328 64.9272 998.275 Q64.9272 1004.74 59.771 1008.81 Q54.6147 1012.85 46.212 1012.85 Q37.8093 1012.85 32.6531 1008.81 Q27.4968 1004.74 27.4968 998.275 Q27.4968 994.328 29.0564 991.527 Q30.5842 988.694 33.7671 986.848 L28.3562 986.848 L28.3562 980.992 L77.5631 980.992 L77.5631 986.848 L58.657 986.848 Z\" fill=\"#000000\" fill-rule=\"nonzero\" fill-opacity=\"1\" /><path clip-path=\"url(#clip630)\" d=\"M49.9359 969.534 L28.3562 969.534 L28.3562 963.677 L49.7131 963.677 Q54.7739 963.677 57.3202 961.704 Q59.8346 959.73 59.8346 955.784 Q59.8346 951.041 56.8109 948.304 Q53.7872 945.535 48.5673 945.535 L28.3562 945.535 L28.3562 939.678 L64.0042 939.678 L64.0042 945.535 L58.5296 945.535 Q61.7762 947.667 63.3676 950.5 Q64.9272 953.301 64.9272 957.025 Q64.9272 963.168 61.1078 966.351 Q57.2883 969.534 49.9359 969.534 M27.4968 954.797 L27.4968 954.797 Z\" fill=\"#000000\" fill-rule=\"nonzero\" fill-opacity=\"1\" /><path clip-path=\"url(#clip630)\" d=\"M46.0847 911.415 Q46.0847 918.512 47.7079 921.25 Q49.3312 923.987 53.2461 923.987 Q56.3653 923.987 58.2114 921.95 Q60.0256 919.881 60.0256 916.348 Q60.0256 911.478 56.5881 908.55 Q53.1188 905.59 47.3897 905.59 L46.0847 905.59 L46.0847 911.415 M43.6657 899.734 L64.0042 899.734 L64.0042 905.59 L58.5933 905.59 Q61.8398 907.595 63.3994 910.587 Q64.9272 913.579 64.9272 917.908 Q64.9272 923.382 61.8716 926.629 Q58.7843 929.843 53.6281 929.843 Q47.6125 929.843 44.5569 925.833 Q41.5014 921.791 41.5014 913.802 L41.5014 905.59 L40.9285 905.59 Q36.8862 905.59 34.6901 908.264 Q32.4621 910.905 32.4621 915.712 Q32.4621 918.767 33.1941 921.664 Q33.9262 924.56 35.3903 927.234 L29.9795 927.234 Q28.7381 924.019 28.1334 920.995 Q27.4968 917.971 27.4968 915.107 Q27.4968 907.373 31.5072 903.553 Q35.5176 899.734 43.6657 899.734 Z\" fill=\"#000000\" fill-rule=\"nonzero\" fill-opacity=\"1\" /><path clip-path=\"url(#clip630)\" d=\"M33.8307 867.014 Q33.2578 868.001 33.0032 869.178 Q32.7167 870.324 32.7167 871.725 Q32.7167 876.69 35.9632 879.363 Q39.1779 882.005 45.2253 882.005 L64.0042 882.005 L64.0042 887.893 L28.3562 887.893 L28.3562 882.005 L33.8944 882.005 Q30.6479 880.159 29.0883 877.199 Q27.4968 874.239 27.4968 870.006 Q27.4968 869.401 27.5923 868.669 Q27.656 867.937 27.8151 867.046 L33.8307 867.014 Z\" fill=\"#000000\" fill-rule=\"nonzero\" fill-opacity=\"1\" /><path clip-path=\"url(#clip630)\" d=\"M44.7161 831.812 L47.5806 831.812 L47.5806 858.739 Q53.6281 858.357 56.8109 855.11 Q59.9619 851.832 59.9619 846.007 Q59.9619 842.633 59.1344 839.482 Q58.3069 836.299 56.6518 833.18 L62.1899 833.18 Q63.5267 836.331 64.227 839.641 Q64.9272 842.952 64.9272 846.357 Q64.9272 854.887 59.9619 859.884 Q54.9967 864.85 46.5303 864.85 Q37.7774 864.85 32.6531 860.139 Q27.4968 855.397 27.4968 847.376 Q27.4968 840.182 32.1438 836.013 Q36.7589 831.812 44.7161 831.812 M42.9973 837.668 Q38.1912 837.732 35.3266 840.373 Q32.4621 842.983 32.4621 847.312 Q32.4621 852.214 35.2312 855.174 Q38.0002 858.102 43.0292 858.548 L42.9973 837.668 Z\" fill=\"#000000\" fill-rule=\"nonzero\" fill-opacity=\"1\" /><path clip-path=\"url(#clip630)\" d=\"M33.7671 798.742 L14.479 798.742 L14.479 792.885 L64.0042 792.885 L64.0042 798.742 L58.657 798.742 Q61.8398 800.588 63.3994 803.421 Q64.9272 806.221 64.9272 810.168 Q64.9272 816.629 59.771 820.703 Q54.6147 824.746 46.212 824.746 Q37.8093 824.746 32.6531 820.703 Q27.4968 816.629 27.4968 810.168 Q27.4968 806.221 29.0564 803.421 Q30.5842 800.588 33.7671 798.742 M46.212 818.698 Q52.6732 818.698 56.3653 816.056 Q60.0256 813.383 60.0256 808.736 Q60.0256 804.089 56.3653 801.415 Q52.6732 798.742 46.212 798.742 Q39.7508 798.742 36.0905 801.415 Q32.3984 804.089 32.3984 808.736 Q32.3984 813.383 36.0905 816.056 Q39.7508 818.698 46.212 818.698 Z\" fill=\"#000000\" fill-rule=\"nonzero\" fill-opacity=\"1\" /><path clip-path=\"url(#clip630)\" d=\"M28.3562 764.303 L28.3562 758.097 L58.275 746.957 L28.3562 735.817 L28.3562 729.61 L64.0042 742.978 L64.0042 750.935 L28.3562 764.303 Z\" fill=\"#000000\" fill-rule=\"nonzero\" fill-opacity=\"1\" /><path clip-path=\"url(#clip630)\" d=\"M46.0847 705.325 Q46.0847 712.423 47.7079 715.16 Q49.3312 717.897 53.2461 717.897 Q56.3653 717.897 58.2114 715.86 Q60.0256 713.791 60.0256 710.258 Q60.0256 705.389 56.5881 702.46 Q53.1188 699.5 47.3897 699.5 L46.0847 699.5 L46.0847 705.325 M43.6657 693.644 L64.0042 693.644 L64.0042 699.5 L58.5933 699.5 Q61.8398 701.506 63.3994 704.497 Q64.9272 707.489 64.9272 711.818 Q64.9272 717.293 61.8716 720.539 Q58.7843 723.754 53.6281 723.754 Q47.6125 723.754 44.5569 719.743 Q41.5014 715.701 41.5014 707.712 L41.5014 699.5 L40.9285 699.5 Q36.8862 699.5 34.6901 702.174 Q32.4621 704.816 32.4621 709.622 Q32.4621 712.677 33.1941 715.574 Q33.9262 718.47 35.3903 721.144 L29.9795 721.144 Q28.7381 717.929 28.1334 714.905 Q27.4968 711.882 27.4968 709.017 Q27.4968 701.283 31.5072 697.463 Q35.5176 693.644 43.6657 693.644 Z\" fill=\"#000000\" fill-rule=\"nonzero\" fill-opacity=\"1\" /><path clip-path=\"url(#clip630)\" d=\"M14.479 681.581 L14.479 675.724 L64.0042 675.724 L64.0042 681.581 L14.479 681.581 Z\" fill=\"#000000\" fill-rule=\"nonzero\" fill-opacity=\"1\" /><path clip-path=\"url(#clip630)\" d=\"M49.9359 664.075 L28.3562 664.075 L28.3562 658.219 L49.7131 658.219 Q54.7739 658.219 57.3202 656.245 Q59.8346 654.272 59.8346 650.325 Q59.8346 645.583 56.8109 642.846 Q53.7872 640.076 48.5673 640.076 L28.3562 640.076 L28.3562 634.22 L64.0042 634.22 L64.0042 640.076 L58.5296 640.076 Q61.7762 642.209 63.3676 645.042 Q64.9272 647.843 64.9272 651.567 Q64.9272 657.709 61.1078 660.892 Q57.2883 664.075 49.9359 664.075 M27.4968 649.339 L27.4968 649.339 Z\" fill=\"#000000\" fill-rule=\"nonzero\" fill-opacity=\"1\" /><path clip-path=\"url(#clip630)\" d=\"M44.7161 591.665 L47.5806 591.665 L47.5806 618.592 Q53.6281 618.21 56.8109 614.964 Q59.9619 611.685 59.9619 605.861 Q59.9619 602.487 59.1344 599.336 Q58.3069 596.153 56.6518 593.034 L62.1899 593.034 Q63.5267 596.185 64.227 599.495 Q64.9272 602.805 64.9272 606.211 Q64.9272 614.741 59.9619 619.738 Q54.9967 624.703 46.5303 624.703 Q37.7774 624.703 32.6531 619.993 Q27.4968 615.25 27.4968 607.229 Q27.4968 600.036 32.1438 595.867 Q36.7589 591.665 44.7161 591.665 M42.9973 597.522 Q38.1912 597.585 35.3266 600.227 Q32.4621 602.837 32.4621 607.166 Q32.4621 612.067 35.2312 615.027 Q38.0002 617.956 43.0292 618.401 L42.9973 597.522 Z\" fill=\"#000000\" fill-rule=\"nonzero\" fill-opacity=\"1\" /><path clip-path=\"url(#clip630)\" d=\"M29.4065 559.327 L34.9447 559.327 Q33.6716 561.81 33.035 564.484 Q32.3984 567.157 32.3984 570.022 Q32.3984 574.382 33.7352 576.579 Q35.072 578.743 37.7456 578.743 Q39.7826 578.743 40.9603 577.183 Q42.1061 575.624 43.1565 570.913 L43.6021 568.908 Q44.9389 562.669 47.3897 560.06 Q49.8086 557.418 54.1691 557.418 Q59.1344 557.418 62.0308 561.365 Q64.9272 565.279 64.9272 572.154 Q64.9272 575.019 64.3543 578.138 Q63.8132 581.226 62.6992 584.663 L56.6518 584.663 Q58.3387 581.416 59.198 578.265 Q60.0256 575.114 60.0256 572.027 Q60.0256 567.889 58.6251 565.661 Q57.1929 563.433 54.6147 563.433 Q52.2276 563.433 50.9545 565.057 Q49.6813 566.648 48.5037 572.091 L48.0262 574.128 Q46.8804 579.57 44.5251 581.989 Q42.138 584.408 38.0002 584.408 Q32.9713 584.408 30.2341 580.844 Q27.4968 577.279 27.4968 570.722 Q27.4968 567.476 27.9743 564.611 Q28.4517 561.746 29.4065 559.327 Z\" fill=\"#000000\" fill-rule=\"nonzero\" fill-opacity=\"1\" /><path clip-path=\"url(#clip630)\" d=\"M14.5426 513.303 Q21.8632 517.568 29.0246 519.637 Q36.186 521.706 43.5384 521.706 Q50.8908 521.706 58.1159 519.637 Q65.3091 517.537 72.5979 513.303 L72.5979 518.396 Q65.1182 523.17 57.8931 525.557 Q50.668 527.913 43.5384 527.913 Q36.4406 527.913 29.2474 525.557 Q22.0542 523.202 14.5426 518.396 L14.5426 513.303 Z\" fill=\"#000000\" fill-rule=\"nonzero\" fill-opacity=\"1\" /><path clip-path=\"url(#clip630)\" d=\"M28.3562 472.308 L45.7028 485.199 L64.0042 471.64 L64.0042 478.547 L49.9996 488.923 L64.0042 499.299 L64.0042 506.206 L45.3526 492.36 L28.3562 505.028 L28.3562 498.121 L41.0558 488.668 L28.3562 479.215 L28.3562 472.308 Z\" fill=\"#000000\" fill-rule=\"nonzero\" fill-opacity=\"1\" /><path clip-path=\"url(#clip630)\" d=\"M39.1142 460.977 L39.1142 447.482 L42.7427 447.482 L42.7427 466.515 L39.2416 466.515 Q38.2549 465.433 36.4725 463.428 Q26.7648 452.479 23.7729 452.479 Q21.6722 452.479 20.3991 454.134 Q19.0941 455.789 19.0941 458.495 Q19.0941 460.15 19.667 462.091 Q20.2081 464.033 21.3221 466.325 L17.4072 466.325 Q16.516 463.874 16.0704 461.773 Q15.6248 459.641 15.6248 457.826 Q15.6248 453.211 17.7255 450.442 Q19.8262 447.673 23.2636 447.673 Q27.6878 447.673 36.7271 458.208 Q38.2549 459.991 39.1142 460.977 Z\" fill=\"#000000\" fill-rule=\"nonzero\" fill-opacity=\"1\" /><path clip-path=\"url(#clip630)\" d=\"M14.5426 438.156 L14.5426 433.064 Q22.0542 428.289 29.2474 425.934 Q36.4406 423.547 43.5384 423.547 Q50.668 423.547 57.8931 425.934 Q65.1182 428.289 72.5979 433.064 L72.5979 438.156 Q65.3091 433.923 58.1159 431.854 Q50.8908 429.754 43.5384 429.754 Q36.186 429.754 29.0246 431.854 Q21.8632 433.923 14.5426 438.156 Z\" fill=\"#000000\" fill-rule=\"nonzero\" fill-opacity=\"1\" /><path clip-path=\"url(#clip632)\" d=\"M244.778 66.1857 L244.778 106.186 L284.778 106.186 L284.778 66.1857 L244.778 66.1857 Z\" fill=\"#0000ff\" fill-rule=\"evenodd\" fill-opacity=\"1\" stroke=\"#000000\" stroke-opacity=\"1\" stroke-width=\"3.2\"/>\n",
              "<path clip-path=\"url(#clip632)\" d=\"M447.495 533.485 L447.495 573.485 L487.495 573.485 L487.495 533.485 L447.495 533.485 Z\" fill=\"#0000ff\" fill-rule=\"evenodd\" fill-opacity=\"1\" stroke=\"#000000\" stroke-opacity=\"1\" stroke-width=\"3.2\"/>\n",
              "<path clip-path=\"url(#clip632)\" d=\"M650.211 896.939 L650.211 936.939 L690.211 936.939 L690.211 896.939 L650.211 896.939 Z\" fill=\"#0000ff\" fill-rule=\"evenodd\" fill-opacity=\"1\" stroke=\"#000000\" stroke-opacity=\"1\" stroke-width=\"3.2\"/>\n",
              "<path clip-path=\"url(#clip632)\" d=\"M852.927 1156.55 L852.927 1196.55 L892.927 1196.55 L892.927 1156.55 L852.927 1156.55 Z\" fill=\"#0000ff\" fill-rule=\"evenodd\" fill-opacity=\"1\" stroke=\"#000000\" stroke-opacity=\"1\" stroke-width=\"3.2\"/>\n",
              "<path clip-path=\"url(#clip632)\" d=\"M1055.64 1312.32 L1055.64 1352.32 L1095.64 1352.32 L1095.64 1312.32 L1055.64 1312.32 Z\" fill=\"#0000ff\" fill-rule=\"evenodd\" fill-opacity=\"1\" stroke=\"#000000\" stroke-opacity=\"1\" stroke-width=\"3.2\"/>\n",
              "<path clip-path=\"url(#clip632)\" d=\"M1258.36 1364.24 L1258.36 1404.24 L1298.36 1404.24 L1298.36 1364.24 L1258.36 1364.24 Z\" fill=\"#0000ff\" fill-rule=\"evenodd\" fill-opacity=\"1\" stroke=\"#000000\" stroke-opacity=\"1\" stroke-width=\"3.2\"/>\n",
              "<path clip-path=\"url(#clip632)\" d=\"M1461.08 1312.32 L1461.08 1352.32 L1501.08 1352.32 L1501.08 1312.32 L1461.08 1312.32 Z\" fill=\"#0000ff\" fill-rule=\"evenodd\" fill-opacity=\"1\" stroke=\"#000000\" stroke-opacity=\"1\" stroke-width=\"3.2\"/>\n",
              "<path clip-path=\"url(#clip632)\" d=\"M1663.79 1156.55 L1663.79 1196.55 L1703.79 1196.55 L1703.79 1156.55 L1663.79 1156.55 Z\" fill=\"#0000ff\" fill-rule=\"evenodd\" fill-opacity=\"1\" stroke=\"#000000\" stroke-opacity=\"1\" stroke-width=\"3.2\"/>\n",
              "<path clip-path=\"url(#clip632)\" d=\"M1866.51 896.939 L1866.51 936.939 L1906.51 936.939 L1906.51 896.939 L1866.51 896.939 Z\" fill=\"#0000ff\" fill-rule=\"evenodd\" fill-opacity=\"1\" stroke=\"#000000\" stroke-opacity=\"1\" stroke-width=\"3.2\"/>\n",
              "<path clip-path=\"url(#clip632)\" d=\"M2069.22 533.485 L2069.22 573.485 L2109.22 573.485 L2109.22 533.485 L2069.22 533.485 Z\" fill=\"#0000ff\" fill-rule=\"evenodd\" fill-opacity=\"1\" stroke=\"#000000\" stroke-opacity=\"1\" stroke-width=\"3.2\"/>\n",
              "<path clip-path=\"url(#clip632)\" d=\"M2271.94 66.1857 L2271.94 106.186 L2311.94 106.186 L2311.94 66.1857 L2271.94 66.1857 Z\" fill=\"#0000ff\" fill-rule=\"evenodd\" fill-opacity=\"1\" stroke=\"#000000\" stroke-opacity=\"1\" stroke-width=\"3.2\"/>\n",
              "<path clip-path=\"url(#clip630)\" d=\"M992.935 196.789 L1563.78 196.789 L1563.78 93.1086 L992.935 93.1086  Z\" fill=\"#ffffff\" fill-rule=\"evenodd\" fill-opacity=\"1\"/>\n",
              "<polyline clip-path=\"url(#clip630)\" style=\"stroke:#000000; stroke-linecap:round; stroke-linejoin:round; stroke-width:4; stroke-opacity:1; fill:none\" points=\"992.935,196.789 1563.78,196.789 1563.78,93.1086 992.935,93.1086 992.935,196.789 \"/>\n",
              "<path clip-path=\"url(#clip630)\" d=\"M1065.16 121.676 L1065.16 168.221 L1111.71 168.221 L1111.71 121.676 L1065.16 121.676 Z\" fill=\"#0000ff\" fill-rule=\"evenodd\" fill-opacity=\"1\" stroke=\"#000000\" stroke-opacity=\"1\" stroke-width=\"3.72364\"/>\n",
              "<path clip-path=\"url(#clip630)\" d=\"M1202.36 137.067 L1202.36 141.094 Q1200.56 140.169 1198.61 139.706 Q1196.67 139.243 1194.59 139.243 Q1191.42 139.243 1189.82 140.215 Q1188.24 141.187 1188.24 143.131 Q1188.24 144.613 1189.38 145.469 Q1190.51 146.303 1193.94 147.067 L1195.4 147.391 Q1199.93 148.363 1201.83 150.145 Q1203.75 151.905 1203.75 155.076 Q1203.75 158.687 1200.88 160.793 Q1198.04 162.9 1193.04 162.9 Q1190.95 162.9 1188.68 162.483 Q1186.44 162.09 1183.94 161.28 L1183.94 156.881 Q1186.3 158.108 1188.59 158.733 Q1190.88 159.335 1193.13 159.335 Q1196.14 159.335 1197.76 158.317 Q1199.38 157.275 1199.38 155.4 Q1199.38 153.664 1198.2 152.738 Q1197.04 151.812 1193.08 150.956 L1191.6 150.608 Q1187.64 149.775 1185.88 148.062 Q1184.12 146.326 1184.12 143.317 Q1184.12 139.659 1186.72 137.669 Q1189.31 135.678 1194.08 135.678 Q1196.44 135.678 1198.52 136.025 Q1200.61 136.372 1202.36 137.067 Z\" fill=\"#000000\" fill-rule=\"nonzero\" fill-opacity=\"1\" /><path clip-path=\"url(#clip630)\" d=\"M1213.08 149.289 Q1213.08 153.988 1215 156.673 Q1216.95 159.335 1220.33 159.335 Q1223.71 159.335 1225.65 156.673 Q1227.6 153.988 1227.6 149.289 Q1227.6 144.59 1225.65 141.928 Q1223.71 139.243 1220.33 139.243 Q1216.95 139.243 1215 141.928 Q1213.08 144.59 1213.08 149.289 M1227.6 158.34 Q1226.25 160.655 1224.19 161.789 Q1222.16 162.9 1219.29 162.9 Q1214.59 162.9 1211.62 159.15 Q1208.68 155.4 1208.68 149.289 Q1208.68 143.178 1211.62 139.428 Q1214.59 135.678 1219.29 135.678 Q1222.16 135.678 1224.19 136.812 Q1226.25 137.923 1227.6 140.238 L1227.6 136.303 L1231.86 136.303 L1231.86 172.09 L1227.6 172.09 L1227.6 158.34 Z\" fill=\"#000000\" fill-rule=\"nonzero\" fill-opacity=\"1\" /><path clip-path=\"url(#clip630)\" d=\"M1240.19 151.997 L1240.19 136.303 L1244.45 136.303 L1244.45 151.835 Q1244.45 155.516 1245.88 157.368 Q1247.32 159.196 1250.19 159.196 Q1253.64 159.196 1255.63 156.997 Q1257.64 154.798 1257.64 151.002 L1257.64 136.303 L1261.9 136.303 L1261.9 162.229 L1257.64 162.229 L1257.64 158.247 Q1256.09 160.608 1254.03 161.766 Q1251.99 162.9 1249.29 162.9 Q1244.82 162.9 1242.5 160.122 Q1240.19 157.344 1240.19 151.997 M1250.91 135.678 L1250.91 135.678 Z\" fill=\"#000000\" fill-rule=\"nonzero\" fill-opacity=\"1\" /><path clip-path=\"url(#clip630)\" d=\"M1282.46 149.196 Q1277.29 149.196 1275.3 150.377 Q1273.31 151.557 1273.31 154.405 Q1273.31 156.673 1274.79 158.016 Q1276.3 159.335 1278.87 159.335 Q1282.41 159.335 1284.54 156.835 Q1286.69 154.312 1286.69 150.145 L1286.69 149.196 L1282.46 149.196 M1290.95 147.437 L1290.95 162.229 L1286.69 162.229 L1286.69 158.293 Q1285.23 160.655 1283.06 161.789 Q1280.88 162.9 1277.73 162.9 Q1273.75 162.9 1271.39 160.678 Q1269.05 158.432 1269.05 154.682 Q1269.05 150.307 1271.97 148.085 Q1274.91 145.863 1280.72 145.863 L1286.69 145.863 L1286.69 145.446 Q1286.69 142.507 1284.75 140.909 Q1282.83 139.289 1279.33 139.289 Q1277.11 139.289 1275 139.821 Q1272.9 140.354 1270.95 141.419 L1270.95 137.483 Q1273.29 136.581 1275.49 136.141 Q1277.69 135.678 1279.77 135.678 Q1285.4 135.678 1288.17 138.594 Q1290.95 141.511 1290.95 147.437 Z\" fill=\"#000000\" fill-rule=\"nonzero\" fill-opacity=\"1\" /><path clip-path=\"url(#clip630)\" d=\"M1314.75 140.284 Q1314.03 139.868 1313.17 139.682 Q1312.34 139.474 1311.32 139.474 Q1307.71 139.474 1305.77 141.835 Q1303.85 144.173 1303.85 148.571 L1303.85 162.229 L1299.56 162.229 L1299.56 136.303 L1303.85 136.303 L1303.85 140.331 Q1305.19 137.969 1307.34 136.835 Q1309.49 135.678 1312.57 135.678 Q1313.01 135.678 1313.54 135.747 Q1314.08 135.794 1314.73 135.909 L1314.75 140.284 Z\" fill=\"#000000\" fill-rule=\"nonzero\" fill-opacity=\"1\" /><path clip-path=\"url(#clip630)\" d=\"M1340.35 148.201 L1340.35 150.284 L1320.77 150.284 Q1321.04 154.682 1323.41 156.997 Q1325.79 159.289 1330.03 159.289 Q1332.48 159.289 1334.77 158.687 Q1337.09 158.085 1339.35 156.881 L1339.35 160.909 Q1337.06 161.881 1334.66 162.391 Q1332.25 162.9 1329.77 162.9 Q1323.57 162.9 1319.93 159.289 Q1316.32 155.678 1316.32 149.52 Q1316.32 143.155 1319.75 139.428 Q1323.2 135.678 1329.03 135.678 Q1334.26 135.678 1337.29 139.057 Q1340.35 142.414 1340.35 148.201 M1336.09 146.951 Q1336.04 143.456 1334.12 141.372 Q1332.22 139.289 1329.08 139.289 Q1325.51 139.289 1323.36 141.303 Q1321.23 143.317 1320.91 146.974 L1336.09 146.951 Z\" fill=\"#000000\" fill-rule=\"nonzero\" fill-opacity=\"1\" /><path clip-path=\"url(#clip630)\" d=\"M1364.4 140.238 L1364.4 126.21 L1368.66 126.21 L1368.66 162.229 L1364.4 162.229 L1364.4 158.34 Q1363.06 160.655 1361 161.789 Q1358.96 162.9 1356.09 162.9 Q1351.39 162.9 1348.43 159.15 Q1345.49 155.4 1345.49 149.289 Q1345.49 143.178 1348.43 139.428 Q1351.39 135.678 1356.09 135.678 Q1358.96 135.678 1361 136.812 Q1363.06 137.923 1364.4 140.238 M1349.89 149.289 Q1349.89 153.988 1351.81 156.673 Q1353.75 159.335 1357.13 159.335 Q1360.51 159.335 1362.46 156.673 Q1364.4 153.988 1364.4 149.289 Q1364.4 144.59 1362.46 141.928 Q1360.51 139.243 1357.13 139.243 Q1353.75 139.243 1351.81 141.928 Q1349.89 144.59 1349.89 149.289 Z\" fill=\"#000000\" fill-rule=\"nonzero\" fill-opacity=\"1\" /><path clip-path=\"url(#clip630)\" d=\"M1389.45 136.303 L1393.96 136.303 L1402.06 158.062 L1410.16 136.303 L1414.68 136.303 L1404.96 162.229 L1399.17 162.229 L1389.45 136.303 Z\" fill=\"#000000\" fill-rule=\"nonzero\" fill-opacity=\"1\" /><path clip-path=\"url(#clip630)\" d=\"M1432.34 149.196 Q1427.18 149.196 1425.19 150.377 Q1423.2 151.557 1423.2 154.405 Q1423.2 156.673 1424.68 158.016 Q1426.18 159.335 1428.75 159.335 Q1432.29 159.335 1434.42 156.835 Q1436.58 154.312 1436.58 150.145 L1436.58 149.196 L1432.34 149.196 M1440.84 147.437 L1440.84 162.229 L1436.58 162.229 L1436.58 158.293 Q1435.12 160.655 1432.94 161.789 Q1430.77 162.9 1427.62 162.9 Q1423.64 162.9 1421.28 160.678 Q1418.94 158.432 1418.94 154.682 Q1418.94 150.307 1421.85 148.085 Q1424.79 145.863 1430.6 145.863 L1436.58 145.863 L1436.58 145.446 Q1436.58 142.507 1434.63 140.909 Q1432.71 139.289 1429.22 139.289 Q1426.99 139.289 1424.89 139.821 Q1422.78 140.354 1420.84 141.419 L1420.84 137.483 Q1423.17 136.581 1425.37 136.141 Q1427.57 135.678 1429.66 135.678 Q1435.28 135.678 1438.06 138.594 Q1440.84 141.511 1440.84 147.437 Z\" fill=\"#000000\" fill-rule=\"nonzero\" fill-opacity=\"1\" /><path clip-path=\"url(#clip630)\" d=\"M1449.61 126.21 L1453.87 126.21 L1453.87 162.229 L1449.61 162.229 L1449.61 126.21 Z\" fill=\"#000000\" fill-rule=\"nonzero\" fill-opacity=\"1\" /><path clip-path=\"url(#clip630)\" d=\"M1462.34 151.997 L1462.34 136.303 L1466.6 136.303 L1466.6 151.835 Q1466.6 155.516 1468.03 157.368 Q1469.47 159.196 1472.34 159.196 Q1475.79 159.196 1477.78 156.997 Q1479.79 154.798 1479.79 151.002 L1479.79 136.303 L1484.05 136.303 L1484.05 162.229 L1479.79 162.229 L1479.79 158.247 Q1478.24 160.608 1476.18 161.766 Q1474.15 162.9 1471.44 162.9 Q1466.97 162.9 1464.65 160.122 Q1462.34 157.344 1462.34 151.997 M1473.06 135.678 L1473.06 135.678 Z\" fill=\"#000000\" fill-rule=\"nonzero\" fill-opacity=\"1\" /><path clip-path=\"url(#clip630)\" d=\"M1515 148.201 L1515 150.284 L1495.42 150.284 Q1495.7 154.682 1498.06 156.997 Q1500.44 159.289 1504.68 159.289 Q1507.13 159.289 1509.42 158.687 Q1511.74 158.085 1514.01 156.881 L1514.01 160.909 Q1511.71 161.881 1509.31 162.391 Q1506.9 162.9 1504.42 162.9 Q1498.22 162.9 1494.59 159.289 Q1490.97 155.678 1490.97 149.52 Q1490.97 143.155 1494.4 139.428 Q1497.85 135.678 1503.68 135.678 Q1508.91 135.678 1511.95 139.057 Q1515 142.414 1515 148.201 M1510.74 146.951 Q1510.7 143.456 1508.77 141.372 Q1506.88 139.289 1503.73 139.289 Q1500.16 139.289 1498.01 141.303 Q1495.88 143.317 1495.56 146.974 L1510.74 146.951 Z\" fill=\"#000000\" fill-rule=\"nonzero\" fill-opacity=\"1\" /><path clip-path=\"url(#clip630)\" d=\"M1538.52 137.067 L1538.52 141.094 Q1536.71 140.169 1534.77 139.706 Q1532.83 139.243 1530.74 139.243 Q1527.57 139.243 1525.97 140.215 Q1524.4 141.187 1524.4 143.131 Q1524.4 144.613 1525.53 145.469 Q1526.67 146.303 1530.09 147.067 L1531.55 147.391 Q1536.09 148.363 1537.99 150.145 Q1539.91 151.905 1539.91 155.076 Q1539.91 158.687 1537.04 160.793 Q1534.19 162.9 1529.19 162.9 Q1527.11 162.9 1524.84 162.483 Q1522.59 162.09 1520.09 161.28 L1520.09 156.881 Q1522.46 158.108 1524.75 158.733 Q1527.04 159.335 1529.28 159.335 Q1532.29 159.335 1533.91 158.317 Q1535.53 157.275 1535.53 155.4 Q1535.53 153.664 1534.35 152.738 Q1533.2 151.812 1529.24 150.956 L1527.76 150.608 Q1523.8 149.775 1522.04 148.062 Q1520.28 146.326 1520.28 143.317 Q1520.28 139.659 1522.87 137.669 Q1525.46 135.678 1530.23 135.678 Q1532.59 135.678 1534.68 136.025 Q1536.76 136.372 1538.52 137.067 Z\" fill=\"#000000\" fill-rule=\"nonzero\" fill-opacity=\"1\" /></svg>\n"
            ],
            "text/html": [
              "<?xml version=\"1.0\" encoding=\"utf-8\"?>\n",
              "<svg xmlns=\"http://www.w3.org/2000/svg\" xmlns:xlink=\"http://www.w3.org/1999/xlink\" width=\"600\" height=\"400\" viewBox=\"0 0 2400 1600\">\n",
              "<defs>\n",
              "  <clipPath id=\"clip680\">\n",
              "    <rect x=\"0\" y=\"0\" width=\"2400\" height=\"1600\"/>\n",
              "  </clipPath>\n",
              "</defs>\n",
              "<path clip-path=\"url(#clip680)\" d=\"M0 1600 L2400 1600 L2400 0 L0 0  Z\" fill=\"#ffffff\" fill-rule=\"evenodd\" fill-opacity=\"1\"/>\n",
              "<defs>\n",
              "  <clipPath id=\"clip681\">\n",
              "    <rect x=\"480\" y=\"0\" width=\"1681\" height=\"1600\"/>\n",
              "  </clipPath>\n",
              "</defs>\n",
              "<path clip-path=\"url(#clip680)\" d=\"M203.964 1423.18 L2352.76 1423.18 L2352.76 47.2441 L203.964 47.2441  Z\" fill=\"#ffffff\" fill-rule=\"evenodd\" fill-opacity=\"1\"/>\n",
              "<defs>\n",
              "  <clipPath id=\"clip682\">\n",
              "    <rect x=\"203\" y=\"47\" width=\"2150\" height=\"1377\"/>\n",
              "  </clipPath>\n",
              "</defs>\n",
              "<polyline clip-path=\"url(#clip682)\" style=\"stroke:#000000; stroke-linecap:round; stroke-linejoin:round; stroke-width:2; stroke-opacity:0.1; fill:none\" points=\"467.495,1423.18 467.495,47.2441 \"/>\n",
              "<polyline clip-path=\"url(#clip682)\" style=\"stroke:#000000; stroke-linecap:round; stroke-linejoin:round; stroke-width:2; stroke-opacity:0.1; fill:none\" points=\"872.927,1423.18 872.927,47.2441 \"/>\n",
              "<polyline clip-path=\"url(#clip682)\" style=\"stroke:#000000; stroke-linecap:round; stroke-linejoin:round; stroke-width:2; stroke-opacity:0.1; fill:none\" points=\"1278.36,1423.18 1278.36,47.2441 \"/>\n",
              "<polyline clip-path=\"url(#clip682)\" style=\"stroke:#000000; stroke-linecap:round; stroke-linejoin:round; stroke-width:2; stroke-opacity:0.1; fill:none\" points=\"1683.79,1423.18 1683.79,47.2441 \"/>\n",
              "<polyline clip-path=\"url(#clip682)\" style=\"stroke:#000000; stroke-linecap:round; stroke-linejoin:round; stroke-width:2; stroke-opacity:0.1; fill:none\" points=\"2089.22,1423.18 2089.22,47.2441 \"/>\n",
              "<polyline clip-path=\"url(#clip680)\" style=\"stroke:#000000; stroke-linecap:round; stroke-linejoin:round; stroke-width:4; stroke-opacity:1; fill:none\" points=\"203.964,1423.18 2352.76,1423.18 \"/>\n",
              "<polyline clip-path=\"url(#clip680)\" style=\"stroke:#000000; stroke-linecap:round; stroke-linejoin:round; stroke-width:4; stroke-opacity:1; fill:none\" points=\"467.495,1423.18 467.495,1404.28 \"/>\n",
              "<polyline clip-path=\"url(#clip680)\" style=\"stroke:#000000; stroke-linecap:round; stroke-linejoin:round; stroke-width:4; stroke-opacity:1; fill:none\" points=\"872.927,1423.18 872.927,1404.28 \"/>\n",
              "<polyline clip-path=\"url(#clip680)\" style=\"stroke:#000000; stroke-linecap:round; stroke-linejoin:round; stroke-width:4; stroke-opacity:1; fill:none\" points=\"1278.36,1423.18 1278.36,1404.28 \"/>\n",
              "<polyline clip-path=\"url(#clip680)\" style=\"stroke:#000000; stroke-linecap:round; stroke-linejoin:round; stroke-width:4; stroke-opacity:1; fill:none\" points=\"1683.79,1423.18 1683.79,1404.28 \"/>\n",
              "<polyline clip-path=\"url(#clip680)\" style=\"stroke:#000000; stroke-linecap:round; stroke-linejoin:round; stroke-width:4; stroke-opacity:1; fill:none\" points=\"2089.22,1423.18 2089.22,1404.28 \"/>\n",
              "<path clip-path=\"url(#clip680)\" d=\"M436.395 1468.75 L466.071 1468.75 L466.071 1472.69 L436.395 1472.69 L436.395 1468.75 Z\" fill=\"#000000\" fill-rule=\"nonzero\" fill-opacity=\"1\" /><path clip-path=\"url(#clip680)\" d=\"M489.011 1455.09 L477.205 1473.54 L489.011 1473.54 L489.011 1455.09 M487.784 1451.02 L493.664 1451.02 L493.664 1473.54 L498.594 1473.54 L498.594 1477.43 L493.664 1477.43 L493.664 1485.58 L489.011 1485.58 L489.011 1477.43 L473.409 1477.43 L473.409 1472.92 L487.784 1451.02 Z\" fill=\"#000000\" fill-rule=\"nonzero\" fill-opacity=\"1\" /><path clip-path=\"url(#clip680)\" d=\"M842.87 1468.75 L872.545 1468.75 L872.545 1472.69 L842.87 1472.69 L842.87 1468.75 Z\" fill=\"#000000\" fill-rule=\"nonzero\" fill-opacity=\"1\" /><path clip-path=\"url(#clip680)\" d=\"M886.666 1481.64 L902.985 1481.64 L902.985 1485.58 L881.041 1485.58 L881.041 1481.64 Q883.703 1478.89 888.286 1474.26 Q892.892 1469.61 894.073 1468.27 Q896.318 1465.74 897.198 1464.01 Q898.101 1462.25 898.101 1460.56 Q898.101 1457.8 896.156 1456.07 Q894.235 1454.33 891.133 1454.33 Q888.934 1454.33 886.48 1455.09 Q884.05 1455.86 881.272 1457.41 L881.272 1452.69 Q884.096 1451.55 886.55 1450.97 Q889.004 1450.39 891.041 1450.39 Q896.411 1450.39 899.605 1453.08 Q902.8 1455.77 902.8 1460.26 Q902.8 1462.39 901.99 1464.31 Q901.203 1466.2 899.096 1468.8 Q898.517 1469.47 895.416 1472.69 Q892.314 1475.88 886.666 1481.64 Z\" fill=\"#000000\" fill-rule=\"nonzero\" fill-opacity=\"1\" /><path clip-path=\"url(#clip680)\" d=\"M1278.36 1454.1 Q1274.75 1454.1 1272.92 1457.66 Q1271.11 1461.2 1271.11 1468.33 Q1271.11 1475.44 1272.92 1479.01 Q1274.75 1482.55 1278.36 1482.55 Q1281.99 1482.55 1283.8 1479.01 Q1285.63 1475.44 1285.63 1468.33 Q1285.63 1461.2 1283.8 1457.66 Q1281.99 1454.1 1278.36 1454.1 M1278.36 1450.39 Q1284.17 1450.39 1287.23 1455 Q1290.3 1459.58 1290.3 1468.33 Q1290.3 1477.06 1287.23 1481.67 Q1284.17 1486.25 1278.36 1486.25 Q1272.55 1486.25 1269.47 1481.67 Q1266.42 1477.06 1266.42 1468.33 Q1266.42 1459.58 1269.47 1455 Q1272.55 1450.39 1278.36 1450.39 Z\" fill=\"#000000\" fill-rule=\"nonzero\" fill-opacity=\"1\" /><path clip-path=\"url(#clip680)\" d=\"M1678.45 1481.64 L1694.76 1481.64 L1694.76 1485.58 L1672.82 1485.58 L1672.82 1481.64 Q1675.48 1478.89 1680.07 1474.26 Q1684.67 1469.61 1685.85 1468.27 Q1688.1 1465.74 1688.98 1464.01 Q1689.88 1462.25 1689.88 1460.56 Q1689.88 1457.8 1687.94 1456.07 Q1686.01 1454.33 1682.91 1454.33 Q1680.71 1454.33 1678.26 1455.09 Q1675.83 1455.86 1673.05 1457.41 L1673.05 1452.69 Q1675.88 1451.55 1678.33 1450.97 Q1680.78 1450.39 1682.82 1450.39 Q1688.19 1450.39 1691.38 1453.08 Q1694.58 1455.77 1694.58 1460.26 Q1694.58 1462.39 1693.77 1464.31 Q1692.98 1466.2 1690.88 1468.8 Q1690.3 1469.47 1687.2 1472.69 Q1684.09 1475.88 1678.45 1481.64 Z\" fill=\"#000000\" fill-rule=\"nonzero\" fill-opacity=\"1\" /><path clip-path=\"url(#clip680)\" d=\"M2092.23 1455.09 L2080.43 1473.54 L2092.23 1473.54 L2092.23 1455.09 M2091.01 1451.02 L2096.89 1451.02 L2096.89 1473.54 L2101.82 1473.54 L2101.82 1477.43 L2096.89 1477.43 L2096.89 1485.58 L2092.23 1485.58 L2092.23 1477.43 L2076.63 1477.43 L2076.63 1472.92 L2091.01 1451.02 Z\" fill=\"#000000\" fill-rule=\"nonzero\" fill-opacity=\"1\" /><path clip-path=\"url(#clip680)\" d=\"M1099.64 1532.4 L1105.5 1532.4 L1105.5 1568.04 L1099.64 1568.04 L1099.64 1532.4 M1099.64 1518.52 L1105.5 1518.52 L1105.5 1525.93 L1099.64 1525.93 L1099.64 1518.52 Z\" fill=\"#000000\" fill-rule=\"nonzero\" fill-opacity=\"1\" /><path clip-path=\"url(#clip680)\" d=\"M1147.39 1546.53 L1147.39 1568.04 L1141.53 1568.04 L1141.53 1546.72 Q1141.53 1541.66 1139.56 1539.14 Q1137.58 1536.63 1133.64 1536.63 Q1128.89 1536.63 1126.16 1539.65 Q1123.42 1542.68 1123.42 1547.9 L1123.42 1568.04 L1117.53 1568.04 L1117.53 1532.4 L1123.42 1532.4 L1123.42 1537.93 Q1125.52 1534.72 1128.35 1533.13 Q1131.22 1531.54 1134.94 1531.54 Q1141.08 1531.54 1144.23 1535.36 Q1147.39 1539.14 1147.39 1546.53 Z\" fill=\"#000000\" fill-rule=\"nonzero\" fill-opacity=\"1\" /><path clip-path=\"url(#clip680)\" d=\"M1164.86 1522.27 L1164.86 1532.4 L1176.92 1532.4 L1176.92 1536.95 L1164.86 1536.95 L1164.86 1556.3 Q1164.86 1560.66 1166.04 1561.9 Q1167.25 1563.14 1170.91 1563.14 L1176.92 1563.14 L1176.92 1568.04 L1170.91 1568.04 Q1164.13 1568.04 1161.55 1565.53 Q1158.97 1562.98 1158.97 1556.3 L1158.97 1536.95 L1154.67 1536.95 L1154.67 1532.4 L1158.97 1532.4 L1158.97 1522.27 L1164.86 1522.27 Z\" fill=\"#000000\" fill-rule=\"nonzero\" fill-opacity=\"1\" /><path clip-path=\"url(#clip680)\" d=\"M1215.12 1548.76 L1215.12 1551.62 L1188.19 1551.62 Q1188.57 1557.67 1191.82 1560.85 Q1195.1 1564 1200.92 1564 Q1204.29 1564 1207.45 1563.17 Q1210.63 1562.35 1213.75 1560.69 L1213.75 1566.23 Q1210.6 1567.57 1207.29 1568.27 Q1203.98 1568.97 1200.57 1568.97 Q1192.04 1568.97 1187.04 1564 Q1182.08 1559.04 1182.08 1550.57 Q1182.08 1541.82 1186.79 1536.69 Q1191.53 1531.54 1199.55 1531.54 Q1206.75 1531.54 1210.92 1536.18 Q1215.12 1540.8 1215.12 1548.76 M1209.26 1547.04 Q1209.2 1542.23 1206.55 1539.37 Q1203.94 1536.5 1199.62 1536.5 Q1194.71 1536.5 1191.75 1539.27 Q1188.83 1542.04 1188.38 1547.07 L1209.26 1547.04 Z\" fill=\"#000000\" fill-rule=\"nonzero\" fill-opacity=\"1\" /><path clip-path=\"url(#clip680)\" d=\"M1245.39 1537.87 Q1244.4 1537.3 1243.22 1537.04 Q1242.08 1536.76 1240.67 1536.76 Q1235.71 1536.76 1233.04 1540 Q1230.39 1543.22 1230.39 1549.27 L1230.39 1568.04 L1224.51 1568.04 L1224.51 1532.4 L1230.39 1532.4 L1230.39 1537.93 Q1232.24 1534.69 1235.2 1533.13 Q1238.16 1531.54 1242.39 1531.54 Q1243 1531.54 1243.73 1531.63 Q1244.46 1531.7 1245.35 1531.85 L1245.39 1537.87 Z\" fill=\"#000000\" fill-rule=\"nonzero\" fill-opacity=\"1\" /><path clip-path=\"url(#clip680)\" d=\"M1273.84 1549.81 Q1273.84 1543.44 1271.2 1539.94 Q1268.59 1536.44 1263.85 1536.44 Q1259.14 1536.44 1256.49 1539.94 Q1253.88 1543.44 1253.88 1549.81 Q1253.88 1556.14 1256.49 1559.64 Q1259.14 1563.14 1263.85 1563.14 Q1268.59 1563.14 1271.2 1559.64 Q1273.84 1556.14 1273.84 1549.81 M1279.7 1563.62 Q1279.7 1572.72 1275.65 1577.15 Q1271.61 1581.6 1263.27 1581.6 Q1260.19 1581.6 1257.45 1581.13 Q1254.71 1580.68 1252.13 1579.72 L1252.13 1574.03 Q1254.71 1575.43 1257.23 1576.1 Q1259.74 1576.76 1262.35 1576.76 Q1268.11 1576.76 1270.98 1573.74 Q1273.84 1570.75 1273.84 1564.67 L1273.84 1561.77 Q1272.03 1564.92 1269.19 1566.48 Q1266.36 1568.04 1262.41 1568.04 Q1255.86 1568.04 1251.85 1563.05 Q1247.84 1558.05 1247.84 1549.81 Q1247.84 1541.53 1251.85 1536.53 Q1255.86 1531.54 1262.41 1531.54 Q1266.36 1531.54 1269.19 1533.1 Q1272.03 1534.66 1273.84 1537.81 L1273.84 1532.4 L1279.7 1532.4 L1279.7 1563.62 Z\" fill=\"#000000\" fill-rule=\"nonzero\" fill-opacity=\"1\" /><path clip-path=\"url(#clip680)\" d=\"M1322.25 1548.76 L1322.25 1551.62 L1295.32 1551.62 Q1295.71 1557.67 1298.95 1560.85 Q1302.23 1564 1308.06 1564 Q1311.43 1564 1314.58 1563.17 Q1317.76 1562.35 1320.88 1560.69 L1320.88 1566.23 Q1317.73 1567.57 1314.42 1568.27 Q1311.11 1568.97 1307.71 1568.97 Q1299.18 1568.97 1294.18 1564 Q1289.21 1559.04 1289.21 1550.57 Q1289.21 1541.82 1293.92 1536.69 Q1298.67 1531.54 1306.69 1531.54 Q1313.88 1531.54 1318.05 1536.18 Q1322.25 1540.8 1322.25 1548.76 M1316.39 1547.04 Q1316.33 1542.23 1313.69 1539.37 Q1311.08 1536.5 1306.75 1536.5 Q1301.85 1536.5 1298.89 1539.27 Q1295.96 1542.04 1295.52 1547.07 L1316.39 1547.04 Z\" fill=\"#000000\" fill-rule=\"nonzero\" fill-opacity=\"1\" /><path clip-path=\"url(#clip680)\" d=\"M1352.52 1537.87 Q1351.53 1537.3 1350.36 1537.04 Q1349.21 1536.76 1347.81 1536.76 Q1342.84 1536.76 1340.17 1540 Q1337.53 1543.22 1337.53 1549.27 L1337.53 1568.04 L1331.64 1568.04 L1331.64 1532.4 L1337.53 1532.4 L1337.53 1537.93 Q1339.38 1534.69 1342.34 1533.13 Q1345.3 1531.54 1349.53 1531.54 Q1350.13 1531.54 1350.87 1531.63 Q1351.6 1531.7 1352.49 1531.85 L1352.52 1537.87 Z\" fill=\"#000000\" fill-rule=\"nonzero\" fill-opacity=\"1\" /><path clip-path=\"url(#clip680)\" d=\"M1393.45 1518.58 Q1389.19 1525.9 1387.12 1533.06 Q1385.05 1540.23 1385.05 1547.58 Q1385.05 1554.93 1387.12 1562.16 Q1389.22 1569.35 1393.45 1576.64 L1388.36 1576.64 Q1383.58 1569.16 1381.2 1561.93 Q1378.84 1554.71 1378.84 1547.58 Q1378.84 1540.48 1381.2 1533.29 Q1383.55 1526.09 1388.36 1518.58 L1393.45 1518.58 Z\" fill=\"#000000\" fill-rule=\"nonzero\" fill-opacity=\"1\" /><path clip-path=\"url(#clip680)\" d=\"M1434.45 1532.4 L1421.56 1549.74 L1435.12 1568.04 L1428.21 1568.04 L1417.83 1554.04 L1407.46 1568.04 L1400.55 1568.04 L1414.39 1549.39 L1401.73 1532.4 L1408.63 1532.4 L1418.09 1545.1 L1427.54 1532.4 L1434.45 1532.4 Z\" fill=\"#000000\" fill-rule=\"nonzero\" fill-opacity=\"1\" /><path clip-path=\"url(#clip680)\" d=\"M1442.47 1518.58 L1447.56 1518.58 Q1452.33 1526.09 1454.69 1533.29 Q1457.08 1540.48 1457.08 1547.58 Q1457.08 1554.71 1454.69 1561.93 Q1452.33 1569.16 1447.56 1576.64 L1442.47 1576.64 Q1446.7 1569.35 1448.77 1562.16 Q1450.87 1554.93 1450.87 1547.58 Q1450.87 1540.23 1448.77 1533.06 Q1446.7 1525.9 1442.47 1518.58 Z\" fill=\"#000000\" fill-rule=\"nonzero\" fill-opacity=\"1\" /><polyline clip-path=\"url(#clip682)\" style=\"stroke:#000000; stroke-linecap:round; stroke-linejoin:round; stroke-width:2; stroke-opacity:0.1; fill:none\" points=\"203.964,1384.24 2352.76,1384.24 \"/>\n",
              "<polyline clip-path=\"url(#clip682)\" style=\"stroke:#000000; stroke-linecap:round; stroke-linejoin:round; stroke-width:2; stroke-opacity:0.1; fill:none\" points=\"203.964,1124.63 2352.76,1124.63 \"/>\n",
              "<polyline clip-path=\"url(#clip682)\" style=\"stroke:#000000; stroke-linecap:round; stroke-linejoin:round; stroke-width:2; stroke-opacity:0.1; fill:none\" points=\"203.964,865.017 2352.76,865.017 \"/>\n",
              "<polyline clip-path=\"url(#clip682)\" style=\"stroke:#000000; stroke-linecap:round; stroke-linejoin:round; stroke-width:2; stroke-opacity:0.1; fill:none\" points=\"203.964,605.407 2352.76,605.407 \"/>\n",
              "<polyline clip-path=\"url(#clip682)\" style=\"stroke:#000000; stroke-linecap:round; stroke-linejoin:round; stroke-width:2; stroke-opacity:0.1; fill:none\" points=\"203.964,345.796 2352.76,345.796 \"/>\n",
              "<polyline clip-path=\"url(#clip682)\" style=\"stroke:#000000; stroke-linecap:round; stroke-linejoin:round; stroke-width:2; stroke-opacity:0.1; fill:none\" points=\"203.964,86.1857 2352.76,86.1857 \"/>\n",
              "<polyline clip-path=\"url(#clip680)\" style=\"stroke:#000000; stroke-linecap:round; stroke-linejoin:round; stroke-width:4; stroke-opacity:1; fill:none\" points=\"203.964,1423.18 203.964,47.2441 \"/>\n",
              "<polyline clip-path=\"url(#clip680)\" style=\"stroke:#000000; stroke-linecap:round; stroke-linejoin:round; stroke-width:4; stroke-opacity:1; fill:none\" points=\"203.964,1384.24 222.861,1384.24 \"/>\n",
              "<polyline clip-path=\"url(#clip680)\" style=\"stroke:#000000; stroke-linecap:round; stroke-linejoin:round; stroke-width:4; stroke-opacity:1; fill:none\" points=\"203.964,1124.63 222.861,1124.63 \"/>\n",
              "<polyline clip-path=\"url(#clip680)\" style=\"stroke:#000000; stroke-linecap:round; stroke-linejoin:round; stroke-width:4; stroke-opacity:1; fill:none\" points=\"203.964,865.017 222.861,865.017 \"/>\n",
              "<polyline clip-path=\"url(#clip680)\" style=\"stroke:#000000; stroke-linecap:round; stroke-linejoin:round; stroke-width:4; stroke-opacity:1; fill:none\" points=\"203.964,605.407 222.861,605.407 \"/>\n",
              "<polyline clip-path=\"url(#clip680)\" style=\"stroke:#000000; stroke-linecap:round; stroke-linejoin:round; stroke-width:4; stroke-opacity:1; fill:none\" points=\"203.964,345.796 222.861,345.796 \"/>\n",
              "<polyline clip-path=\"url(#clip680)\" style=\"stroke:#000000; stroke-linecap:round; stroke-linejoin:round; stroke-width:4; stroke-opacity:1; fill:none\" points=\"203.964,86.1857 222.861,86.1857 \"/>\n",
              "<path clip-path=\"url(#clip680)\" d=\"M156.019 1370.04 Q152.408 1370.04 150.579 1373.6 Q148.774 1377.14 148.774 1384.27 Q148.774 1391.38 150.579 1394.94 Q152.408 1398.49 156.019 1398.49 Q159.653 1398.49 161.459 1394.94 Q163.288 1391.38 163.288 1384.27 Q163.288 1377.14 161.459 1373.6 Q159.653 1370.04 156.019 1370.04 M156.019 1366.33 Q161.829 1366.33 164.885 1370.94 Q167.964 1375.52 167.964 1384.27 Q167.964 1393 164.885 1397.61 Q161.829 1402.19 156.019 1402.19 Q150.209 1402.19 147.13 1397.61 Q144.075 1393 144.075 1384.27 Q144.075 1375.52 147.13 1370.94 Q150.209 1366.33 156.019 1366.33 Z\" fill=\"#000000\" fill-rule=\"nonzero\" fill-opacity=\"1\" /><path clip-path=\"url(#clip680)\" d=\"M147.061 1107.35 L165.417 1107.35 L165.417 1111.28 L151.343 1111.28 L151.343 1119.76 Q152.362 1119.41 153.38 1119.25 Q154.399 1119.06 155.417 1119.06 Q161.204 1119.06 164.584 1122.23 Q167.964 1125.4 167.964 1130.82 Q167.964 1136.4 164.491 1139.5 Q161.019 1142.58 154.7 1142.58 Q152.524 1142.58 150.255 1142.21 Q148.01 1141.84 145.603 1141.1 L145.603 1136.4 Q147.686 1137.53 149.908 1138.09 Q152.13 1138.64 154.607 1138.64 Q158.612 1138.64 160.95 1136.54 Q163.288 1134.43 163.288 1130.82 Q163.288 1127.21 160.95 1125.1 Q158.612 1123 154.607 1123 Q152.732 1123 150.857 1123.41 Q149.005 1123.83 147.061 1124.71 L147.061 1107.35 Z\" fill=\"#000000\" fill-rule=\"nonzero\" fill-opacity=\"1\" /><path clip-path=\"url(#clip680)\" d=\"M116.668 878.362 L124.306 878.362 L124.306 851.996 L115.996 853.663 L115.996 849.404 L124.26 847.737 L128.936 847.737 L128.936 878.362 L136.575 878.362 L136.575 882.297 L116.668 882.297 L116.668 878.362 Z\" fill=\"#000000\" fill-rule=\"nonzero\" fill-opacity=\"1\" /><path clip-path=\"url(#clip680)\" d=\"M156.019 850.816 Q152.408 850.816 150.579 854.381 Q148.774 857.922 148.774 865.052 Q148.774 872.158 150.579 875.723 Q152.408 879.265 156.019 879.265 Q159.653 879.265 161.459 875.723 Q163.288 872.158 163.288 865.052 Q163.288 857.922 161.459 854.381 Q159.653 850.816 156.019 850.816 M156.019 847.112 Q161.829 847.112 164.885 851.719 Q167.964 856.302 167.964 865.052 Q167.964 873.779 164.885 878.385 Q161.829 882.969 156.019 882.969 Q150.209 882.969 147.13 878.385 Q144.075 873.779 144.075 865.052 Q144.075 856.302 147.13 851.719 Q150.209 847.112 156.019 847.112 Z\" fill=\"#000000\" fill-rule=\"nonzero\" fill-opacity=\"1\" /><path clip-path=\"url(#clip680)\" d=\"M117.663 618.752 L125.302 618.752 L125.302 592.386 L116.992 594.053 L116.992 589.793 L125.255 588.127 L129.931 588.127 L129.931 618.752 L137.57 618.752 L137.57 622.687 L117.663 622.687 L117.663 618.752 Z\" fill=\"#000000\" fill-rule=\"nonzero\" fill-opacity=\"1\" /><path clip-path=\"url(#clip680)\" d=\"M147.061 588.127 L165.417 588.127 L165.417 592.062 L151.343 592.062 L151.343 600.534 Q152.362 600.187 153.38 600.025 Q154.399 599.84 155.417 599.84 Q161.204 599.84 164.584 603.011 Q167.964 606.182 167.964 611.599 Q167.964 617.177 164.491 620.279 Q161.019 623.358 154.7 623.358 Q152.524 623.358 150.255 622.988 Q148.01 622.617 145.603 621.877 L145.603 617.177 Q147.686 618.312 149.908 618.867 Q152.13 619.423 154.607 619.423 Q158.612 619.423 160.95 617.316 Q163.288 615.21 163.288 611.599 Q163.288 607.988 160.95 605.881 Q158.612 603.775 154.607 603.775 Q152.732 603.775 150.857 604.191 Q149.005 604.608 147.061 605.488 L147.061 588.127 Z\" fill=\"#000000\" fill-rule=\"nonzero\" fill-opacity=\"1\" /><path clip-path=\"url(#clip680)\" d=\"M119.885 359.141 L136.204 359.141 L136.204 363.076 L114.26 363.076 L114.26 359.141 Q116.922 356.386 121.505 351.757 Q126.112 347.104 127.292 345.761 Q129.538 343.238 130.417 341.502 Q131.32 339.743 131.32 338.053 Q131.32 335.299 129.376 333.562 Q127.455 331.826 124.353 331.826 Q122.154 331.826 119.7 332.59 Q117.269 333.354 114.492 334.905 L114.492 330.183 Q117.316 329.049 119.769 328.47 Q122.223 327.891 124.26 327.891 Q129.63 327.891 132.825 330.576 Q136.019 333.262 136.019 337.752 Q136.019 339.882 135.209 341.803 Q134.422 343.701 132.316 346.294 Q131.737 346.965 128.635 350.183 Q125.533 353.377 119.885 359.141 Z\" fill=\"#000000\" fill-rule=\"nonzero\" fill-opacity=\"1\" /><path clip-path=\"url(#clip680)\" d=\"M156.019 331.595 Q152.408 331.595 150.579 335.16 Q148.774 338.701 148.774 345.831 Q148.774 352.937 150.579 356.502 Q152.408 360.044 156.019 360.044 Q159.653 360.044 161.459 356.502 Q163.288 352.937 163.288 345.831 Q163.288 338.701 161.459 335.16 Q159.653 331.595 156.019 331.595 M156.019 327.891 Q161.829 327.891 164.885 332.498 Q167.964 337.081 167.964 345.831 Q167.964 354.558 164.885 359.164 Q161.829 363.747 156.019 363.747 Q150.209 363.747 147.13 359.164 Q144.075 354.558 144.075 345.831 Q144.075 337.081 147.13 332.498 Q150.209 327.891 156.019 327.891 Z\" fill=\"#000000\" fill-rule=\"nonzero\" fill-opacity=\"1\" /><path clip-path=\"url(#clip680)\" d=\"M120.88 99.5305 L137.2 99.5305 L137.2 103.466 L115.256 103.466 L115.256 99.5305 Q117.918 96.7759 122.501 92.1463 Q127.107 87.4935 128.288 86.151 Q130.533 83.6278 131.413 81.8917 Q132.316 80.1325 132.316 78.4427 Q132.316 75.688 130.371 73.9519 Q128.45 72.2158 125.348 72.2158 Q123.149 72.2158 120.695 72.9797 Q118.265 73.7436 115.487 75.2945 L115.487 70.5723 Q118.311 69.4381 120.765 68.8594 Q123.218 68.2807 125.255 68.2807 Q130.626 68.2807 133.82 70.9658 Q137.015 73.651 137.015 78.1417 Q137.015 80.2714 136.204 82.1926 Q135.417 84.0908 133.311 86.6834 Q132.732 87.3546 129.63 90.5722 Q126.529 93.7667 120.88 99.5305 Z\" fill=\"#000000\" fill-rule=\"nonzero\" fill-opacity=\"1\" /><path clip-path=\"url(#clip680)\" d=\"M147.061 68.9057 L165.417 68.9057 L165.417 72.8408 L151.343 72.8408 L151.343 81.313 Q152.362 80.9658 153.38 80.8038 Q154.399 80.6186 155.417 80.6186 Q161.204 80.6186 164.584 83.7899 Q167.964 86.9611 167.964 92.3778 Q167.964 97.9564 164.491 101.058 Q161.019 104.137 154.7 104.137 Q152.524 104.137 150.255 103.767 Q148.01 103.396 145.603 102.655 L145.603 97.9564 Q147.686 99.0907 149.908 99.6462 Q152.13 100.202 154.607 100.202 Q158.612 100.202 160.95 98.0953 Q163.288 95.9889 163.288 92.3778 Q163.288 88.7667 160.95 86.6602 Q158.612 84.5537 154.607 84.5537 Q152.732 84.5537 150.857 84.9704 Q149.005 85.3871 147.061 86.2667 L147.061 68.9057 Z\" fill=\"#000000\" fill-rule=\"nonzero\" fill-opacity=\"1\" /><path clip-path=\"url(#clip680)\" d=\"M29.4065 1021.54 L34.9447 1021.54 Q33.6716 1024.02 33.035 1026.7 Q32.3984 1029.37 32.3984 1032.24 Q32.3984 1036.6 33.7352 1038.79 Q35.072 1040.96 37.7456 1040.96 Q39.7826 1040.96 40.9603 1039.4 Q42.1061 1037.84 43.1565 1033.13 L43.6021 1031.12 Q44.9389 1024.88 47.3897 1022.27 Q49.8086 1019.63 54.1691 1019.63 Q59.1344 1019.63 62.0308 1023.58 Q64.9272 1027.49 64.9272 1034.37 Q64.9272 1037.23 64.3543 1040.35 Q63.8132 1043.44 62.6992 1046.88 L56.6518 1046.88 Q58.3387 1043.63 59.198 1040.48 Q60.0256 1037.33 60.0256 1034.24 Q60.0256 1030.1 58.6251 1027.88 Q57.1929 1025.65 54.6147 1025.65 Q52.2276 1025.65 50.9545 1027.27 Q49.6813 1028.86 48.5037 1034.3 L48.0262 1036.34 Q46.8804 1041.78 44.5251 1044.2 Q42.138 1046.62 38.0002 1046.62 Q32.9713 1046.62 30.2341 1043.06 Q27.4968 1039.49 27.4968 1032.94 Q27.4968 1029.69 27.9743 1026.82 Q28.4517 1023.96 29.4065 1021.54 Z\" fill=\"#000000\" fill-rule=\"nonzero\" fill-opacity=\"1\" /><path clip-path=\"url(#clip680)\" d=\"M46.212 1006.8 Q52.6732 1006.8 56.3653 1004.16 Q60.0256 1001.49 60.0256 996.843 Q60.0256 992.196 56.3653 989.522 Q52.6732 986.848 46.212 986.848 Q39.7508 986.848 36.0905 989.522 Q32.3984 992.196 32.3984 996.843 Q32.3984 1001.49 36.0905 1004.16 Q39.7508 1006.8 46.212 1006.8 M58.657 986.848 Q61.8398 988.694 63.3994 991.527 Q64.9272 994.328 64.9272 998.275 Q64.9272 1004.74 59.771 1008.81 Q54.6147 1012.85 46.212 1012.85 Q37.8093 1012.85 32.6531 1008.81 Q27.4968 1004.74 27.4968 998.275 Q27.4968 994.328 29.0564 991.527 Q30.5842 988.694 33.7671 986.848 L28.3562 986.848 L28.3562 980.992 L77.5631 980.992 L77.5631 986.848 L58.657 986.848 Z\" fill=\"#000000\" fill-rule=\"nonzero\" fill-opacity=\"1\" /><path clip-path=\"url(#clip680)\" d=\"M49.9359 969.534 L28.3562 969.534 L28.3562 963.677 L49.7131 963.677 Q54.7739 963.677 57.3202 961.704 Q59.8346 959.73 59.8346 955.784 Q59.8346 951.041 56.8109 948.304 Q53.7872 945.535 48.5673 945.535 L28.3562 945.535 L28.3562 939.678 L64.0042 939.678 L64.0042 945.535 L58.5296 945.535 Q61.7762 947.667 63.3676 950.5 Q64.9272 953.301 64.9272 957.025 Q64.9272 963.168 61.1078 966.351 Q57.2883 969.534 49.9359 969.534 M27.4968 954.797 L27.4968 954.797 Z\" fill=\"#000000\" fill-rule=\"nonzero\" fill-opacity=\"1\" /><path clip-path=\"url(#clip680)\" d=\"M46.0847 911.415 Q46.0847 918.512 47.7079 921.25 Q49.3312 923.987 53.2461 923.987 Q56.3653 923.987 58.2114 921.95 Q60.0256 919.881 60.0256 916.348 Q60.0256 911.478 56.5881 908.55 Q53.1188 905.59 47.3897 905.59 L46.0847 905.59 L46.0847 911.415 M43.6657 899.734 L64.0042 899.734 L64.0042 905.59 L58.5933 905.59 Q61.8398 907.595 63.3994 910.587 Q64.9272 913.579 64.9272 917.908 Q64.9272 923.382 61.8716 926.629 Q58.7843 929.843 53.6281 929.843 Q47.6125 929.843 44.5569 925.833 Q41.5014 921.791 41.5014 913.802 L41.5014 905.59 L40.9285 905.59 Q36.8862 905.59 34.6901 908.264 Q32.4621 910.905 32.4621 915.712 Q32.4621 918.767 33.1941 921.664 Q33.9262 924.56 35.3903 927.234 L29.9795 927.234 Q28.7381 924.019 28.1334 920.995 Q27.4968 917.971 27.4968 915.107 Q27.4968 907.373 31.5072 903.553 Q35.5176 899.734 43.6657 899.734 Z\" fill=\"#000000\" fill-rule=\"nonzero\" fill-opacity=\"1\" /><path clip-path=\"url(#clip680)\" d=\"M33.8307 867.014 Q33.2578 868.001 33.0032 869.178 Q32.7167 870.324 32.7167 871.725 Q32.7167 876.69 35.9632 879.363 Q39.1779 882.005 45.2253 882.005 L64.0042 882.005 L64.0042 887.893 L28.3562 887.893 L28.3562 882.005 L33.8944 882.005 Q30.6479 880.159 29.0883 877.199 Q27.4968 874.239 27.4968 870.006 Q27.4968 869.401 27.5923 868.669 Q27.656 867.937 27.8151 867.046 L33.8307 867.014 Z\" fill=\"#000000\" fill-rule=\"nonzero\" fill-opacity=\"1\" /><path clip-path=\"url(#clip680)\" d=\"M44.7161 831.812 L47.5806 831.812 L47.5806 858.739 Q53.6281 858.357 56.8109 855.11 Q59.9619 851.832 59.9619 846.007 Q59.9619 842.633 59.1344 839.482 Q58.3069 836.299 56.6518 833.18 L62.1899 833.18 Q63.5267 836.331 64.227 839.641 Q64.9272 842.952 64.9272 846.357 Q64.9272 854.887 59.9619 859.884 Q54.9967 864.85 46.5303 864.85 Q37.7774 864.85 32.6531 860.139 Q27.4968 855.397 27.4968 847.376 Q27.4968 840.182 32.1438 836.013 Q36.7589 831.812 44.7161 831.812 M42.9973 837.668 Q38.1912 837.732 35.3266 840.373 Q32.4621 842.983 32.4621 847.312 Q32.4621 852.214 35.2312 855.174 Q38.0002 858.102 43.0292 858.548 L42.9973 837.668 Z\" fill=\"#000000\" fill-rule=\"nonzero\" fill-opacity=\"1\" /><path clip-path=\"url(#clip680)\" d=\"M33.7671 798.742 L14.479 798.742 L14.479 792.885 L64.0042 792.885 L64.0042 798.742 L58.657 798.742 Q61.8398 800.588 63.3994 803.421 Q64.9272 806.221 64.9272 810.168 Q64.9272 816.629 59.771 820.703 Q54.6147 824.746 46.212 824.746 Q37.8093 824.746 32.6531 820.703 Q27.4968 816.629 27.4968 810.168 Q27.4968 806.221 29.0564 803.421 Q30.5842 800.588 33.7671 798.742 M46.212 818.698 Q52.6732 818.698 56.3653 816.056 Q60.0256 813.383 60.0256 808.736 Q60.0256 804.089 56.3653 801.415 Q52.6732 798.742 46.212 798.742 Q39.7508 798.742 36.0905 801.415 Q32.3984 804.089 32.3984 808.736 Q32.3984 813.383 36.0905 816.056 Q39.7508 818.698 46.212 818.698 Z\" fill=\"#000000\" fill-rule=\"nonzero\" fill-opacity=\"1\" /><path clip-path=\"url(#clip680)\" d=\"M28.3562 764.303 L28.3562 758.097 L58.275 746.957 L28.3562 735.817 L28.3562 729.61 L64.0042 742.978 L64.0042 750.935 L28.3562 764.303 Z\" fill=\"#000000\" fill-rule=\"nonzero\" fill-opacity=\"1\" /><path clip-path=\"url(#clip680)\" d=\"M46.0847 705.325 Q46.0847 712.423 47.7079 715.16 Q49.3312 717.897 53.2461 717.897 Q56.3653 717.897 58.2114 715.86 Q60.0256 713.791 60.0256 710.258 Q60.0256 705.389 56.5881 702.46 Q53.1188 699.5 47.3897 699.5 L46.0847 699.5 L46.0847 705.325 M43.6657 693.644 L64.0042 693.644 L64.0042 699.5 L58.5933 699.5 Q61.8398 701.506 63.3994 704.497 Q64.9272 707.489 64.9272 711.818 Q64.9272 717.293 61.8716 720.539 Q58.7843 723.754 53.6281 723.754 Q47.6125 723.754 44.5569 719.743 Q41.5014 715.701 41.5014 707.712 L41.5014 699.5 L40.9285 699.5 Q36.8862 699.5 34.6901 702.174 Q32.4621 704.816 32.4621 709.622 Q32.4621 712.677 33.1941 715.574 Q33.9262 718.47 35.3903 721.144 L29.9795 721.144 Q28.7381 717.929 28.1334 714.905 Q27.4968 711.882 27.4968 709.017 Q27.4968 701.283 31.5072 697.463 Q35.5176 693.644 43.6657 693.644 Z\" fill=\"#000000\" fill-rule=\"nonzero\" fill-opacity=\"1\" /><path clip-path=\"url(#clip680)\" d=\"M14.479 681.581 L14.479 675.724 L64.0042 675.724 L64.0042 681.581 L14.479 681.581 Z\" fill=\"#000000\" fill-rule=\"nonzero\" fill-opacity=\"1\" /><path clip-path=\"url(#clip680)\" d=\"M49.9359 664.075 L28.3562 664.075 L28.3562 658.219 L49.7131 658.219 Q54.7739 658.219 57.3202 656.245 Q59.8346 654.272 59.8346 650.325 Q59.8346 645.583 56.8109 642.846 Q53.7872 640.076 48.5673 640.076 L28.3562 640.076 L28.3562 634.22 L64.0042 634.22 L64.0042 640.076 L58.5296 640.076 Q61.7762 642.209 63.3676 645.042 Q64.9272 647.843 64.9272 651.567 Q64.9272 657.709 61.1078 660.892 Q57.2883 664.075 49.9359 664.075 M27.4968 649.339 L27.4968 649.339 Z\" fill=\"#000000\" fill-rule=\"nonzero\" fill-opacity=\"1\" /><path clip-path=\"url(#clip680)\" d=\"M44.7161 591.665 L47.5806 591.665 L47.5806 618.592 Q53.6281 618.21 56.8109 614.964 Q59.9619 611.685 59.9619 605.861 Q59.9619 602.487 59.1344 599.336 Q58.3069 596.153 56.6518 593.034 L62.1899 593.034 Q63.5267 596.185 64.227 599.495 Q64.9272 602.805 64.9272 606.211 Q64.9272 614.741 59.9619 619.738 Q54.9967 624.703 46.5303 624.703 Q37.7774 624.703 32.6531 619.993 Q27.4968 615.25 27.4968 607.229 Q27.4968 600.036 32.1438 595.867 Q36.7589 591.665 44.7161 591.665 M42.9973 597.522 Q38.1912 597.585 35.3266 600.227 Q32.4621 602.837 32.4621 607.166 Q32.4621 612.067 35.2312 615.027 Q38.0002 617.956 43.0292 618.401 L42.9973 597.522 Z\" fill=\"#000000\" fill-rule=\"nonzero\" fill-opacity=\"1\" /><path clip-path=\"url(#clip680)\" d=\"M29.4065 559.327 L34.9447 559.327 Q33.6716 561.81 33.035 564.484 Q32.3984 567.157 32.3984 570.022 Q32.3984 574.382 33.7352 576.579 Q35.072 578.743 37.7456 578.743 Q39.7826 578.743 40.9603 577.183 Q42.1061 575.624 43.1565 570.913 L43.6021 568.908 Q44.9389 562.669 47.3897 560.06 Q49.8086 557.418 54.1691 557.418 Q59.1344 557.418 62.0308 561.365 Q64.9272 565.279 64.9272 572.154 Q64.9272 575.019 64.3543 578.138 Q63.8132 581.226 62.6992 584.663 L56.6518 584.663 Q58.3387 581.416 59.198 578.265 Q60.0256 575.114 60.0256 572.027 Q60.0256 567.889 58.6251 565.661 Q57.1929 563.433 54.6147 563.433 Q52.2276 563.433 50.9545 565.057 Q49.6813 566.648 48.5037 572.091 L48.0262 574.128 Q46.8804 579.57 44.5251 581.989 Q42.138 584.408 38.0002 584.408 Q32.9713 584.408 30.2341 580.844 Q27.4968 577.279 27.4968 570.722 Q27.4968 567.476 27.9743 564.611 Q28.4517 561.746 29.4065 559.327 Z\" fill=\"#000000\" fill-rule=\"nonzero\" fill-opacity=\"1\" /><path clip-path=\"url(#clip680)\" d=\"M14.5426 513.303 Q21.8632 517.568 29.0246 519.637 Q36.186 521.706 43.5384 521.706 Q50.8908 521.706 58.1159 519.637 Q65.3091 517.537 72.5979 513.303 L72.5979 518.396 Q65.1182 523.17 57.8931 525.557 Q50.668 527.913 43.5384 527.913 Q36.4406 527.913 29.2474 525.557 Q22.0542 523.202 14.5426 518.396 L14.5426 513.303 Z\" fill=\"#000000\" fill-rule=\"nonzero\" fill-opacity=\"1\" /><path clip-path=\"url(#clip680)\" d=\"M28.3562 472.308 L45.7028 485.199 L64.0042 471.64 L64.0042 478.547 L49.9996 488.923 L64.0042 499.299 L64.0042 506.206 L45.3526 492.36 L28.3562 505.028 L28.3562 498.121 L41.0558 488.668 L28.3562 479.215 L28.3562 472.308 Z\" fill=\"#000000\" fill-rule=\"nonzero\" fill-opacity=\"1\" /><path clip-path=\"url(#clip680)\" d=\"M39.1142 460.977 L39.1142 447.482 L42.7427 447.482 L42.7427 466.515 L39.2416 466.515 Q38.2549 465.433 36.4725 463.428 Q26.7648 452.479 23.7729 452.479 Q21.6722 452.479 20.3991 454.134 Q19.0941 455.789 19.0941 458.495 Q19.0941 460.15 19.667 462.091 Q20.2081 464.033 21.3221 466.325 L17.4072 466.325 Q16.516 463.874 16.0704 461.773 Q15.6248 459.641 15.6248 457.826 Q15.6248 453.211 17.7255 450.442 Q19.8262 447.673 23.2636 447.673 Q27.6878 447.673 36.7271 458.208 Q38.2549 459.991 39.1142 460.977 Z\" fill=\"#000000\" fill-rule=\"nonzero\" fill-opacity=\"1\" /><path clip-path=\"url(#clip680)\" d=\"M14.5426 438.156 L14.5426 433.064 Q22.0542 428.289 29.2474 425.934 Q36.4406 423.547 43.5384 423.547 Q50.668 423.547 57.8931 425.934 Q65.1182 428.289 72.5979 433.064 L72.5979 438.156 Q65.3091 433.923 58.1159 431.854 Q50.8908 429.754 43.5384 429.754 Q36.186 429.754 29.0246 431.854 Q21.8632 433.923 14.5426 438.156 Z\" fill=\"#000000\" fill-rule=\"nonzero\" fill-opacity=\"1\" /><path clip-path=\"url(#clip682)\" d=\"M244.778 66.1857 L244.778 106.186 L284.778 106.186 L284.778 66.1857 L244.778 66.1857 Z\" fill=\"#0000ff\" fill-rule=\"evenodd\" fill-opacity=\"1\" stroke=\"#000000\" stroke-opacity=\"1\" stroke-width=\"3.2\"/>\n",
              "<path clip-path=\"url(#clip682)\" d=\"M447.495 533.485 L447.495 573.485 L487.495 573.485 L487.495 533.485 L447.495 533.485 Z\" fill=\"#0000ff\" fill-rule=\"evenodd\" fill-opacity=\"1\" stroke=\"#000000\" stroke-opacity=\"1\" stroke-width=\"3.2\"/>\n",
              "<path clip-path=\"url(#clip682)\" d=\"M650.211 896.939 L650.211 936.939 L690.211 936.939 L690.211 896.939 L650.211 896.939 Z\" fill=\"#0000ff\" fill-rule=\"evenodd\" fill-opacity=\"1\" stroke=\"#000000\" stroke-opacity=\"1\" stroke-width=\"3.2\"/>\n",
              "<path clip-path=\"url(#clip682)\" d=\"M852.927 1156.55 L852.927 1196.55 L892.927 1196.55 L892.927 1156.55 L852.927 1156.55 Z\" fill=\"#0000ff\" fill-rule=\"evenodd\" fill-opacity=\"1\" stroke=\"#000000\" stroke-opacity=\"1\" stroke-width=\"3.2\"/>\n",
              "<path clip-path=\"url(#clip682)\" d=\"M1055.64 1312.32 L1055.64 1352.32 L1095.64 1352.32 L1095.64 1312.32 L1055.64 1312.32 Z\" fill=\"#0000ff\" fill-rule=\"evenodd\" fill-opacity=\"1\" stroke=\"#000000\" stroke-opacity=\"1\" stroke-width=\"3.2\"/>\n",
              "<path clip-path=\"url(#clip682)\" d=\"M1258.36 1364.24 L1258.36 1404.24 L1298.36 1404.24 L1298.36 1364.24 L1258.36 1364.24 Z\" fill=\"#0000ff\" fill-rule=\"evenodd\" fill-opacity=\"1\" stroke=\"#000000\" stroke-opacity=\"1\" stroke-width=\"3.2\"/>\n",
              "<path clip-path=\"url(#clip682)\" d=\"M1461.08 1312.32 L1461.08 1352.32 L1501.08 1352.32 L1501.08 1312.32 L1461.08 1312.32 Z\" fill=\"#0000ff\" fill-rule=\"evenodd\" fill-opacity=\"1\" stroke=\"#000000\" stroke-opacity=\"1\" stroke-width=\"3.2\"/>\n",
              "<path clip-path=\"url(#clip682)\" d=\"M1663.79 1156.55 L1663.79 1196.55 L1703.79 1196.55 L1703.79 1156.55 L1663.79 1156.55 Z\" fill=\"#0000ff\" fill-rule=\"evenodd\" fill-opacity=\"1\" stroke=\"#000000\" stroke-opacity=\"1\" stroke-width=\"3.2\"/>\n",
              "<path clip-path=\"url(#clip682)\" d=\"M1866.51 896.939 L1866.51 936.939 L1906.51 936.939 L1906.51 896.939 L1866.51 896.939 Z\" fill=\"#0000ff\" fill-rule=\"evenodd\" fill-opacity=\"1\" stroke=\"#000000\" stroke-opacity=\"1\" stroke-width=\"3.2\"/>\n",
              "<path clip-path=\"url(#clip682)\" d=\"M2069.22 533.485 L2069.22 573.485 L2109.22 573.485 L2109.22 533.485 L2069.22 533.485 Z\" fill=\"#0000ff\" fill-rule=\"evenodd\" fill-opacity=\"1\" stroke=\"#000000\" stroke-opacity=\"1\" stroke-width=\"3.2\"/>\n",
              "<path clip-path=\"url(#clip682)\" d=\"M2271.94 66.1857 L2271.94 106.186 L2311.94 106.186 L2311.94 66.1857 L2271.94 66.1857 Z\" fill=\"#0000ff\" fill-rule=\"evenodd\" fill-opacity=\"1\" stroke=\"#000000\" stroke-opacity=\"1\" stroke-width=\"3.2\"/>\n",
              "<path clip-path=\"url(#clip680)\" d=\"M992.935 196.789 L1563.78 196.789 L1563.78 93.1086 L992.935 93.1086  Z\" fill=\"#ffffff\" fill-rule=\"evenodd\" fill-opacity=\"1\"/>\n",
              "<polyline clip-path=\"url(#clip680)\" style=\"stroke:#000000; stroke-linecap:round; stroke-linejoin:round; stroke-width:4; stroke-opacity:1; fill:none\" points=\"992.935,196.789 1563.78,196.789 1563.78,93.1086 992.935,93.1086 992.935,196.789 \"/>\n",
              "<path clip-path=\"url(#clip680)\" d=\"M1065.16 121.676 L1065.16 168.221 L1111.71 168.221 L1111.71 121.676 L1065.16 121.676 Z\" fill=\"#0000ff\" fill-rule=\"evenodd\" fill-opacity=\"1\" stroke=\"#000000\" stroke-opacity=\"1\" stroke-width=\"3.72364\"/>\n",
              "<path clip-path=\"url(#clip680)\" d=\"M1202.36 137.067 L1202.36 141.094 Q1200.56 140.169 1198.61 139.706 Q1196.67 139.243 1194.59 139.243 Q1191.42 139.243 1189.82 140.215 Q1188.24 141.187 1188.24 143.131 Q1188.24 144.613 1189.38 145.469 Q1190.51 146.303 1193.94 147.067 L1195.4 147.391 Q1199.93 148.363 1201.83 150.145 Q1203.75 151.905 1203.75 155.076 Q1203.75 158.687 1200.88 160.793 Q1198.04 162.9 1193.04 162.9 Q1190.95 162.9 1188.68 162.483 Q1186.44 162.09 1183.94 161.28 L1183.94 156.881 Q1186.3 158.108 1188.59 158.733 Q1190.88 159.335 1193.13 159.335 Q1196.14 159.335 1197.76 158.317 Q1199.38 157.275 1199.38 155.4 Q1199.38 153.664 1198.2 152.738 Q1197.04 151.812 1193.08 150.956 L1191.6 150.608 Q1187.64 149.775 1185.88 148.062 Q1184.12 146.326 1184.12 143.317 Q1184.12 139.659 1186.72 137.669 Q1189.31 135.678 1194.08 135.678 Q1196.44 135.678 1198.52 136.025 Q1200.61 136.372 1202.36 137.067 Z\" fill=\"#000000\" fill-rule=\"nonzero\" fill-opacity=\"1\" /><path clip-path=\"url(#clip680)\" d=\"M1213.08 149.289 Q1213.08 153.988 1215 156.673 Q1216.95 159.335 1220.33 159.335 Q1223.71 159.335 1225.65 156.673 Q1227.6 153.988 1227.6 149.289 Q1227.6 144.59 1225.65 141.928 Q1223.71 139.243 1220.33 139.243 Q1216.95 139.243 1215 141.928 Q1213.08 144.59 1213.08 149.289 M1227.6 158.34 Q1226.25 160.655 1224.19 161.789 Q1222.16 162.9 1219.29 162.9 Q1214.59 162.9 1211.62 159.15 Q1208.68 155.4 1208.68 149.289 Q1208.68 143.178 1211.62 139.428 Q1214.59 135.678 1219.29 135.678 Q1222.16 135.678 1224.19 136.812 Q1226.25 137.923 1227.6 140.238 L1227.6 136.303 L1231.86 136.303 L1231.86 172.09 L1227.6 172.09 L1227.6 158.34 Z\" fill=\"#000000\" fill-rule=\"nonzero\" fill-opacity=\"1\" /><path clip-path=\"url(#clip680)\" d=\"M1240.19 151.997 L1240.19 136.303 L1244.45 136.303 L1244.45 151.835 Q1244.45 155.516 1245.88 157.368 Q1247.32 159.196 1250.19 159.196 Q1253.64 159.196 1255.63 156.997 Q1257.64 154.798 1257.64 151.002 L1257.64 136.303 L1261.9 136.303 L1261.9 162.229 L1257.64 162.229 L1257.64 158.247 Q1256.09 160.608 1254.03 161.766 Q1251.99 162.9 1249.29 162.9 Q1244.82 162.9 1242.5 160.122 Q1240.19 157.344 1240.19 151.997 M1250.91 135.678 L1250.91 135.678 Z\" fill=\"#000000\" fill-rule=\"nonzero\" fill-opacity=\"1\" /><path clip-path=\"url(#clip680)\" d=\"M1282.46 149.196 Q1277.29 149.196 1275.3 150.377 Q1273.31 151.557 1273.31 154.405 Q1273.31 156.673 1274.79 158.016 Q1276.3 159.335 1278.87 159.335 Q1282.41 159.335 1284.54 156.835 Q1286.69 154.312 1286.69 150.145 L1286.69 149.196 L1282.46 149.196 M1290.95 147.437 L1290.95 162.229 L1286.69 162.229 L1286.69 158.293 Q1285.23 160.655 1283.06 161.789 Q1280.88 162.9 1277.73 162.9 Q1273.75 162.9 1271.39 160.678 Q1269.05 158.432 1269.05 154.682 Q1269.05 150.307 1271.97 148.085 Q1274.91 145.863 1280.72 145.863 L1286.69 145.863 L1286.69 145.446 Q1286.69 142.507 1284.75 140.909 Q1282.83 139.289 1279.33 139.289 Q1277.11 139.289 1275 139.821 Q1272.9 140.354 1270.95 141.419 L1270.95 137.483 Q1273.29 136.581 1275.49 136.141 Q1277.69 135.678 1279.77 135.678 Q1285.4 135.678 1288.17 138.594 Q1290.95 141.511 1290.95 147.437 Z\" fill=\"#000000\" fill-rule=\"nonzero\" fill-opacity=\"1\" /><path clip-path=\"url(#clip680)\" d=\"M1314.75 140.284 Q1314.03 139.868 1313.17 139.682 Q1312.34 139.474 1311.32 139.474 Q1307.71 139.474 1305.77 141.835 Q1303.85 144.173 1303.85 148.571 L1303.85 162.229 L1299.56 162.229 L1299.56 136.303 L1303.85 136.303 L1303.85 140.331 Q1305.19 137.969 1307.34 136.835 Q1309.49 135.678 1312.57 135.678 Q1313.01 135.678 1313.54 135.747 Q1314.08 135.794 1314.73 135.909 L1314.75 140.284 Z\" fill=\"#000000\" fill-rule=\"nonzero\" fill-opacity=\"1\" /><path clip-path=\"url(#clip680)\" d=\"M1340.35 148.201 L1340.35 150.284 L1320.77 150.284 Q1321.04 154.682 1323.41 156.997 Q1325.79 159.289 1330.03 159.289 Q1332.48 159.289 1334.77 158.687 Q1337.09 158.085 1339.35 156.881 L1339.35 160.909 Q1337.06 161.881 1334.66 162.391 Q1332.25 162.9 1329.77 162.9 Q1323.57 162.9 1319.93 159.289 Q1316.32 155.678 1316.32 149.52 Q1316.32 143.155 1319.75 139.428 Q1323.2 135.678 1329.03 135.678 Q1334.26 135.678 1337.29 139.057 Q1340.35 142.414 1340.35 148.201 M1336.09 146.951 Q1336.04 143.456 1334.12 141.372 Q1332.22 139.289 1329.08 139.289 Q1325.51 139.289 1323.36 141.303 Q1321.23 143.317 1320.91 146.974 L1336.09 146.951 Z\" fill=\"#000000\" fill-rule=\"nonzero\" fill-opacity=\"1\" /><path clip-path=\"url(#clip680)\" d=\"M1364.4 140.238 L1364.4 126.21 L1368.66 126.21 L1368.66 162.229 L1364.4 162.229 L1364.4 158.34 Q1363.06 160.655 1361 161.789 Q1358.96 162.9 1356.09 162.9 Q1351.39 162.9 1348.43 159.15 Q1345.49 155.4 1345.49 149.289 Q1345.49 143.178 1348.43 139.428 Q1351.39 135.678 1356.09 135.678 Q1358.96 135.678 1361 136.812 Q1363.06 137.923 1364.4 140.238 M1349.89 149.289 Q1349.89 153.988 1351.81 156.673 Q1353.75 159.335 1357.13 159.335 Q1360.51 159.335 1362.46 156.673 Q1364.4 153.988 1364.4 149.289 Q1364.4 144.59 1362.46 141.928 Q1360.51 139.243 1357.13 139.243 Q1353.75 139.243 1351.81 141.928 Q1349.89 144.59 1349.89 149.289 Z\" fill=\"#000000\" fill-rule=\"nonzero\" fill-opacity=\"1\" /><path clip-path=\"url(#clip680)\" d=\"M1389.45 136.303 L1393.96 136.303 L1402.06 158.062 L1410.16 136.303 L1414.68 136.303 L1404.96 162.229 L1399.17 162.229 L1389.45 136.303 Z\" fill=\"#000000\" fill-rule=\"nonzero\" fill-opacity=\"1\" /><path clip-path=\"url(#clip680)\" d=\"M1432.34 149.196 Q1427.18 149.196 1425.19 150.377 Q1423.2 151.557 1423.2 154.405 Q1423.2 156.673 1424.68 158.016 Q1426.18 159.335 1428.75 159.335 Q1432.29 159.335 1434.42 156.835 Q1436.58 154.312 1436.58 150.145 L1436.58 149.196 L1432.34 149.196 M1440.84 147.437 L1440.84 162.229 L1436.58 162.229 L1436.58 158.293 Q1435.12 160.655 1432.94 161.789 Q1430.77 162.9 1427.62 162.9 Q1423.64 162.9 1421.28 160.678 Q1418.94 158.432 1418.94 154.682 Q1418.94 150.307 1421.85 148.085 Q1424.79 145.863 1430.6 145.863 L1436.58 145.863 L1436.58 145.446 Q1436.58 142.507 1434.63 140.909 Q1432.71 139.289 1429.22 139.289 Q1426.99 139.289 1424.89 139.821 Q1422.78 140.354 1420.84 141.419 L1420.84 137.483 Q1423.17 136.581 1425.37 136.141 Q1427.57 135.678 1429.66 135.678 Q1435.28 135.678 1438.06 138.594 Q1440.84 141.511 1440.84 147.437 Z\" fill=\"#000000\" fill-rule=\"nonzero\" fill-opacity=\"1\" /><path clip-path=\"url(#clip680)\" d=\"M1449.61 126.21 L1453.87 126.21 L1453.87 162.229 L1449.61 162.229 L1449.61 126.21 Z\" fill=\"#000000\" fill-rule=\"nonzero\" fill-opacity=\"1\" /><path clip-path=\"url(#clip680)\" d=\"M1462.34 151.997 L1462.34 136.303 L1466.6 136.303 L1466.6 151.835 Q1466.6 155.516 1468.03 157.368 Q1469.47 159.196 1472.34 159.196 Q1475.79 159.196 1477.78 156.997 Q1479.79 154.798 1479.79 151.002 L1479.79 136.303 L1484.05 136.303 L1484.05 162.229 L1479.79 162.229 L1479.79 158.247 Q1478.24 160.608 1476.18 161.766 Q1474.15 162.9 1471.44 162.9 Q1466.97 162.9 1464.65 160.122 Q1462.34 157.344 1462.34 151.997 M1473.06 135.678 L1473.06 135.678 Z\" fill=\"#000000\" fill-rule=\"nonzero\" fill-opacity=\"1\" /><path clip-path=\"url(#clip680)\" d=\"M1515 148.201 L1515 150.284 L1495.42 150.284 Q1495.7 154.682 1498.06 156.997 Q1500.44 159.289 1504.68 159.289 Q1507.13 159.289 1509.42 158.687 Q1511.74 158.085 1514.01 156.881 L1514.01 160.909 Q1511.71 161.881 1509.31 162.391 Q1506.9 162.9 1504.42 162.9 Q1498.22 162.9 1494.59 159.289 Q1490.97 155.678 1490.97 149.52 Q1490.97 143.155 1494.4 139.428 Q1497.85 135.678 1503.68 135.678 Q1508.91 135.678 1511.95 139.057 Q1515 142.414 1515 148.201 M1510.74 146.951 Q1510.7 143.456 1508.77 141.372 Q1506.88 139.289 1503.73 139.289 Q1500.16 139.289 1498.01 141.303 Q1495.88 143.317 1495.56 146.974 L1510.74 146.951 Z\" fill=\"#000000\" fill-rule=\"nonzero\" fill-opacity=\"1\" /><path clip-path=\"url(#clip680)\" d=\"M1538.52 137.067 L1538.52 141.094 Q1536.71 140.169 1534.77 139.706 Q1532.83 139.243 1530.74 139.243 Q1527.57 139.243 1525.97 140.215 Q1524.4 141.187 1524.4 143.131 Q1524.4 144.613 1525.53 145.469 Q1526.67 146.303 1530.09 147.067 L1531.55 147.391 Q1536.09 148.363 1537.99 150.145 Q1539.91 151.905 1539.91 155.076 Q1539.91 158.687 1537.04 160.793 Q1534.19 162.9 1529.19 162.9 Q1527.11 162.9 1524.84 162.483 Q1522.59 162.09 1520.09 161.28 L1520.09 156.881 Q1522.46 158.108 1524.75 158.733 Q1527.04 159.335 1529.28 159.335 Q1532.29 159.335 1533.91 158.317 Q1535.53 157.275 1535.53 155.4 Q1535.53 153.664 1534.35 152.738 Q1533.2 151.812 1529.24 150.956 L1527.76 150.608 Q1523.8 149.775 1522.04 148.062 Q1520.28 146.326 1520.28 143.317 Q1520.28 139.659 1522.87 137.669 Q1525.46 135.678 1530.23 135.678 Q1532.59 135.678 1534.68 136.025 Q1536.76 136.372 1538.52 137.067 Z\" fill=\"#000000\" fill-rule=\"nonzero\" fill-opacity=\"1\" /></svg>\n"
            ]
          },
          "metadata": {},
          "output_type": "display_data"
        }
      ],
      "source": [
        "# insert your code here\n",
        "function square(x)\n",
        "    a = x^2\n",
        "    return a\n",
        "end\n",
        "\n",
        "x = [i for i in -5:1:5]\n",
        "y = [square(i) for i in -5:1:5]\n",
        "\n",
        "scatter(x, y, markercolor=:blue, markershape=:square, markersize=5, \n",
        "        label=\"squared values\", legend=:top)\n",
        "xlabel!(\"interger (x)\")\n",
        "ylabel!(\"squared values (x²)\")\n",
        "\n",
        "\n",
        "\n",
        "\n"
      ]
    },
    {
      "cell_type": "markdown",
      "id": "eaca6031-e691-4019-9986-e7127b3df842",
      "metadata": {},
      "source": [
        "## Commit and Push Your Changes to GitHub\n",
        "\n",
        "After completing the previous two exercises, commit your solution file\n",
        "(notebook or otherwise) and push to GitHub. Use an informative commit\n",
        "message which makes it clear what changes you’ve made. The specific\n",
        "workflow for this will vary depending on how you’re writing up your\n",
        "solutions; please search for specifics and ask for help as needed!\n",
        "\n",
        "> **Useful Commit Sizes**\n",
        ">\n",
        "> Ideally, you’d commit whenever you make a “substantial” enough change\n",
        "> that you want to lock in, such as writing the core code for a problem\n",
        "> or completing a problem, if you’re preparing code to be used elsewhere\n",
        "> (by yourself or others), or if you want to ask for help. `git` lets\n",
        "> you revert changes back to a previous commit, so it’s easy to undo\n",
        "> changes or updates which broke something that was previously working,\n",
        "> so changing too many things at once can make it hard to keep track of\n",
        "> what worked when.\n",
        ">\n",
        "> But in this case, go ahead and just commit after finishing the\n",
        "> problems.\n",
        "\n",
        "Push the repository with these commits to GitHub and take a screenshot\n",
        "of the repository page\n",
        "(`https://github.com/BEE4750-FA24/<username>/lab01`) which shows the\n",
        "updated repository. Include that screenshot in your submission as the\n",
        "solution to this problem.\n",
        "\n",
        "## Submitting PDF\n",
        "\n",
        "> **Important**\n",
        ">\n",
        "> These submission instructions will not be repeated on future\n",
        "> assignments!\n",
        "\n",
        "Export your writeup as a PDF and submit it to the “Lab 1” assignment on\n",
        "Gradescope. Make sure that you tag pages corresponding to relevant\n",
        "problems to avoid a 10% penalty.\n",
        "\n",
        "> **Printing Code to PDF**\n",
        ">\n",
        "> You are not required to submit your code when submitting assignments.\n",
        "> However, when printing a notebook to PDF, long lines will run off the\n",
        "> edge of code cells, which may result in comments or code being hidden.\n",
        "> If you see this, go back to the notebook and break up long lines into\n",
        "> shorter onces (for example, see the comment in the above code cell) to\n",
        "> ensure key parts of your results aren’t missing."
      ]
    }
  ],
  "metadata": {
    "kernel_info": {
      "name": "julia"
    },
    "kernelspec": {
      "display_name": "Julia 1.10.4",
      "language": "julia",
      "name": "julia-1.10"
    },
    "language_info": {
      "file_extension": ".jl",
      "mimetype": "application/julia",
      "name": "julia",
      "version": "1.10.4"
    }
  },
  "nbformat": 4,
  "nbformat_minor": 5
}
